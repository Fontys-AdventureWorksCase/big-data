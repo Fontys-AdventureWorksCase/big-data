{
 "cells": [
  {
   "cell_type": "code",
   "execution_count": 1,
   "id": "1be2f316",
   "metadata": {},
   "outputs": [
    {
     "name": "stdout",
     "output_type": "stream",
     "text": [
      "0:00:03.735518\n"
     ]
    }
   ],
   "source": [
    "from pyspark.sql import SparkSession\n",
    "from pyspark.sql import SQLContext\n",
    "from pyspark.sql.types import *\n",
    "import datetime\n",
    "\n",
    "# Start spark session\n",
    "startTime = datetime.datetime.now()\n",
    "\n",
    "spark = SparkSession \\\n",
    "    .builder\\\n",
    "    .appName(\"Anime importer\") \\\n",
    "    .master(\"spark://spark-master:7077\") \\\n",
    "    .config(\"spark.driver.memory\", \"15g\") \\\n",
    "    .config(\"spark.jars\", \"/extra_jars/neo4j-connector-apache-spark_2.12-4.0.1_for_spark_3.jar\") \\\n",
    "    .config(\"neo4j.url\", \"bolt://neo4j:7687\")\\\n",
    "    .config(\"neo4j.authentication.type\", \"basic\")\\\n",
    "    .config(\"neo4j.authentication.basic.username\", \"neo4j\")\\\n",
    "    .config(\"neo4j.authentication.basic.password\", \"password\")\\\n",
    "    .getOrCreate()\n",
    "\n",
    "print(datetime.datetime.now()-startTime)"
   ]
  },
  {
   "cell_type": "code",
   "execution_count": 2,
   "id": "98bebd65",
   "metadata": {},
   "outputs": [
    {
     "name": "stdout",
     "output_type": "stream",
     "text": [
      "2021-06-17 18:18:45.538230\n",
      "+------+--------------------+\n",
      "|    id|               title|\n",
      "+------+--------------------+\n",
      "|108712|Tezuka Osamu no B...|\n",
      "|108713|Kono Danshi, Maho...|\n",
      "+------+--------------------+\n",
      "\n",
      "0:00:05.379765\n"
     ]
    }
   ],
   "source": [
    "# Read animes with cypher test\n",
    "startTime = datetime.datetime.now()\n",
    "print(startTime)\n",
    "\n",
    "(spark.read.format(\"org.neo4j.spark.DataSource\")\n",
    "#  .option(\"labels\", \":Anime\") \n",
    " .option(\"query\", \"MATCH (a:Anime) WITH a LIMIT 2 RETURN id(a) as id, a.title as title\")\n",
    " .load()\n",
    " .show())\n",
    "\n",
    "print(datetime.datetime.now()-startTime)"
   ]
  },
  {
   "cell_type": "code",
   "execution_count": 20,
   "id": "3a1ed18b",
   "metadata": {},
   "outputs": [
    {
     "name": "stdout",
     "output_type": "stream",
     "text": [
      "root\n",
      " |-- 'ok': string (nullable = true)\n",
      "\n"
     ]
    },
    {
     "ename": "Py4JJavaError",
     "evalue": "An error occurred while calling o324.load.\n: java.lang.UnsupportedOperationException: DataSource source does not support user-specified schema.\n\tat org.apache.spark.sql.execution.datasources.v2.DataSourceV2Utils$.getTableFromProvider(DataSourceV2Utils.scala:76)\n\tat org.apache.spark.sql.DataFrameReader.$anonfun$load$1(DataFrameReader.scala:256)\n\tat scala.Option.map(Option.scala:230)\n\tat org.apache.spark.sql.DataFrameReader.load(DataFrameReader.scala:230)\n\tat org.apache.spark.sql.DataFrameReader.load(DataFrameReader.scala:203)\n\tat sun.reflect.NativeMethodAccessorImpl.invoke0(Native Method)\n\tat sun.reflect.NativeMethodAccessorImpl.invoke(NativeMethodAccessorImpl.java:62)\n\tat sun.reflect.DelegatingMethodAccessorImpl.invoke(DelegatingMethodAccessorImpl.java:43)\n\tat java.lang.reflect.Method.invoke(Method.java:498)\n\tat py4j.reflection.MethodInvoker.invoke(MethodInvoker.java:244)\n\tat py4j.reflection.ReflectionEngine.invoke(ReflectionEngine.java:357)\n\tat py4j.Gateway.invoke(Gateway.java:282)\n\tat py4j.commands.AbstractCommand.invokeMethod(AbstractCommand.java:132)\n\tat py4j.commands.CallCommand.execute(CallCommand.java:79)\n\tat py4j.GatewayConnection.run(GatewayConnection.java:238)\n\tat java.lang.Thread.run(Thread.java:748)\n",
     "output_type": "error",
     "traceback": [
      "\u001b[0;31m---------------------------------------------------------------------------\u001b[0m",
      "\u001b[0;31mPy4JJavaError\u001b[0m                             Traceback (most recent call last)",
      "\u001b[0;32m<ipython-input-20-1b75f89decdf>\u001b[0m in \u001b[0;36m<module>\u001b[0;34m\u001b[0m\n\u001b[1;32m     41\u001b[0m \u001b[0;31m#  .schema(temp.schema)\u001b[0m\u001b[0;34m\u001b[0m\u001b[0;34m\u001b[0m\u001b[0;34m\u001b[0m\u001b[0m\n\u001b[1;32m     42\u001b[0m  \u001b[0;34m.\u001b[0m\u001b[0moption\u001b[0m\u001b[0;34m(\u001b[0m\u001b[0;34m\"query\"\u001b[0m\u001b[0;34m,\u001b[0m \u001b[0mquery\u001b[0m\u001b[0;34m)\u001b[0m\u001b[0;34m\u001b[0m\u001b[0;34m\u001b[0m\u001b[0m\n\u001b[0;32m---> 43\u001b[0;31m  \u001b[0;34m.\u001b[0m\u001b[0moption\u001b[0m\u001b[0;34m(\u001b[0m\u001b[0;34m\"partitions\"\u001b[0m\u001b[0;34m,\u001b[0m \u001b[0;34m\"1\"\u001b[0m\u001b[0;34m)\u001b[0m\u001b[0;34m\u001b[0m\u001b[0;34m\u001b[0m\u001b[0m\n\u001b[0m\u001b[1;32m     44\u001b[0m  \u001b[0;34m.\u001b[0m\u001b[0mload\u001b[0m\u001b[0;34m(\u001b[0m\u001b[0;34m)\u001b[0m\u001b[0;34m\u001b[0m\u001b[0;34m\u001b[0m\u001b[0m\n\u001b[1;32m     45\u001b[0m  .show())\n",
      "\u001b[0;32m/usr/local/lib/python3.7/dist-packages/pyspark/sql/readwriter.py\u001b[0m in \u001b[0;36mload\u001b[0;34m(self, path, format, schema, **options)\u001b[0m\n\u001b[1;32m    182\u001b[0m             \u001b[0;32mreturn\u001b[0m \u001b[0mself\u001b[0m\u001b[0;34m.\u001b[0m\u001b[0m_df\u001b[0m\u001b[0;34m(\u001b[0m\u001b[0mself\u001b[0m\u001b[0;34m.\u001b[0m\u001b[0m_jreader\u001b[0m\u001b[0;34m.\u001b[0m\u001b[0mload\u001b[0m\u001b[0;34m(\u001b[0m\u001b[0mself\u001b[0m\u001b[0;34m.\u001b[0m\u001b[0m_spark\u001b[0m\u001b[0;34m.\u001b[0m\u001b[0m_sc\u001b[0m\u001b[0;34m.\u001b[0m\u001b[0m_jvm\u001b[0m\u001b[0;34m.\u001b[0m\u001b[0mPythonUtils\u001b[0m\u001b[0;34m.\u001b[0m\u001b[0mtoSeq\u001b[0m\u001b[0;34m(\u001b[0m\u001b[0mpath\u001b[0m\u001b[0;34m)\u001b[0m\u001b[0;34m)\u001b[0m\u001b[0;34m)\u001b[0m\u001b[0;34m\u001b[0m\u001b[0;34m\u001b[0m\u001b[0m\n\u001b[1;32m    183\u001b[0m         \u001b[0;32melse\u001b[0m\u001b[0;34m:\u001b[0m\u001b[0;34m\u001b[0m\u001b[0;34m\u001b[0m\u001b[0m\n\u001b[0;32m--> 184\u001b[0;31m             \u001b[0;32mreturn\u001b[0m \u001b[0mself\u001b[0m\u001b[0;34m.\u001b[0m\u001b[0m_df\u001b[0m\u001b[0;34m(\u001b[0m\u001b[0mself\u001b[0m\u001b[0;34m.\u001b[0m\u001b[0m_jreader\u001b[0m\u001b[0;34m.\u001b[0m\u001b[0mload\u001b[0m\u001b[0;34m(\u001b[0m\u001b[0;34m)\u001b[0m\u001b[0;34m)\u001b[0m\u001b[0;34m\u001b[0m\u001b[0;34m\u001b[0m\u001b[0m\n\u001b[0m\u001b[1;32m    185\u001b[0m \u001b[0;34m\u001b[0m\u001b[0m\n\u001b[1;32m    186\u001b[0m     \u001b[0;34m@\u001b[0m\u001b[0msince\u001b[0m\u001b[0;34m(\u001b[0m\u001b[0;36m1.4\u001b[0m\u001b[0;34m)\u001b[0m\u001b[0;34m\u001b[0m\u001b[0;34m\u001b[0m\u001b[0m\n",
      "\u001b[0;32m/usr/local/lib/python3.7/dist-packages/py4j/java_gateway.py\u001b[0m in \u001b[0;36m__call__\u001b[0;34m(self, *args)\u001b[0m\n\u001b[1;32m   1303\u001b[0m         \u001b[0manswer\u001b[0m \u001b[0;34m=\u001b[0m \u001b[0mself\u001b[0m\u001b[0;34m.\u001b[0m\u001b[0mgateway_client\u001b[0m\u001b[0;34m.\u001b[0m\u001b[0msend_command\u001b[0m\u001b[0;34m(\u001b[0m\u001b[0mcommand\u001b[0m\u001b[0;34m)\u001b[0m\u001b[0;34m\u001b[0m\u001b[0;34m\u001b[0m\u001b[0m\n\u001b[1;32m   1304\u001b[0m         return_value = get_return_value(\n\u001b[0;32m-> 1305\u001b[0;31m             answer, self.gateway_client, self.target_id, self.name)\n\u001b[0m\u001b[1;32m   1306\u001b[0m \u001b[0;34m\u001b[0m\u001b[0m\n\u001b[1;32m   1307\u001b[0m         \u001b[0;32mfor\u001b[0m \u001b[0mtemp_arg\u001b[0m \u001b[0;32min\u001b[0m \u001b[0mtemp_args\u001b[0m\u001b[0;34m:\u001b[0m\u001b[0;34m\u001b[0m\u001b[0;34m\u001b[0m\u001b[0m\n",
      "\u001b[0;32m/usr/local/lib/python3.7/dist-packages/pyspark/sql/utils.py\u001b[0m in \u001b[0;36mdeco\u001b[0;34m(*a, **kw)\u001b[0m\n\u001b[1;32m    129\u001b[0m     \u001b[0;32mdef\u001b[0m \u001b[0mdeco\u001b[0m\u001b[0;34m(\u001b[0m\u001b[0;34m*\u001b[0m\u001b[0ma\u001b[0m\u001b[0;34m,\u001b[0m \u001b[0;34m**\u001b[0m\u001b[0mkw\u001b[0m\u001b[0;34m)\u001b[0m\u001b[0;34m:\u001b[0m\u001b[0;34m\u001b[0m\u001b[0;34m\u001b[0m\u001b[0m\n\u001b[1;32m    130\u001b[0m         \u001b[0;32mtry\u001b[0m\u001b[0;34m:\u001b[0m\u001b[0;34m\u001b[0m\u001b[0;34m\u001b[0m\u001b[0m\n\u001b[0;32m--> 131\u001b[0;31m             \u001b[0;32mreturn\u001b[0m \u001b[0mf\u001b[0m\u001b[0;34m(\u001b[0m\u001b[0;34m*\u001b[0m\u001b[0ma\u001b[0m\u001b[0;34m,\u001b[0m \u001b[0;34m**\u001b[0m\u001b[0mkw\u001b[0m\u001b[0;34m)\u001b[0m\u001b[0;34m\u001b[0m\u001b[0;34m\u001b[0m\u001b[0m\n\u001b[0m\u001b[1;32m    132\u001b[0m         \u001b[0;32mexcept\u001b[0m \u001b[0mpy4j\u001b[0m\u001b[0;34m.\u001b[0m\u001b[0mprotocol\u001b[0m\u001b[0;34m.\u001b[0m\u001b[0mPy4JJavaError\u001b[0m \u001b[0;32mas\u001b[0m \u001b[0me\u001b[0m\u001b[0;34m:\u001b[0m\u001b[0;34m\u001b[0m\u001b[0;34m\u001b[0m\u001b[0m\n\u001b[1;32m    133\u001b[0m             \u001b[0mconverted\u001b[0m \u001b[0;34m=\u001b[0m \u001b[0mconvert_exception\u001b[0m\u001b[0;34m(\u001b[0m\u001b[0me\u001b[0m\u001b[0;34m.\u001b[0m\u001b[0mjava_exception\u001b[0m\u001b[0;34m)\u001b[0m\u001b[0;34m\u001b[0m\u001b[0;34m\u001b[0m\u001b[0m\n",
      "\u001b[0;32m/usr/local/lib/python3.7/dist-packages/py4j/protocol.py\u001b[0m in \u001b[0;36mget_return_value\u001b[0;34m(answer, gateway_client, target_id, name)\u001b[0m\n\u001b[1;32m    326\u001b[0m                 raise Py4JJavaError(\n\u001b[1;32m    327\u001b[0m                     \u001b[0;34m\"An error occurred while calling {0}{1}{2}.\\n\"\u001b[0m\u001b[0;34m.\u001b[0m\u001b[0;34m\u001b[0m\u001b[0;34m\u001b[0m\u001b[0m\n\u001b[0;32m--> 328\u001b[0;31m                     format(target_id, \".\", name), value)\n\u001b[0m\u001b[1;32m    329\u001b[0m             \u001b[0;32melse\u001b[0m\u001b[0;34m:\u001b[0m\u001b[0;34m\u001b[0m\u001b[0;34m\u001b[0m\u001b[0m\n\u001b[1;32m    330\u001b[0m                 raise Py4JError(\n",
      "\u001b[0;31mPy4JJavaError\u001b[0m: An error occurred while calling o324.load.\n: java.lang.UnsupportedOperationException: DataSource source does not support user-specified schema.\n\tat org.apache.spark.sql.execution.datasources.v2.DataSourceV2Utils$.getTableFromProvider(DataSourceV2Utils.scala:76)\n\tat org.apache.spark.sql.DataFrameReader.$anonfun$load$1(DataFrameReader.scala:256)\n\tat scala.Option.map(Option.scala:230)\n\tat org.apache.spark.sql.DataFrameReader.load(DataFrameReader.scala:230)\n\tat org.apache.spark.sql.DataFrameReader.load(DataFrameReader.scala:203)\n\tat sun.reflect.NativeMethodAccessorImpl.invoke0(Native Method)\n\tat sun.reflect.NativeMethodAccessorImpl.invoke(NativeMethodAccessorImpl.java:62)\n\tat sun.reflect.DelegatingMethodAccessorImpl.invoke(DelegatingMethodAccessorImpl.java:43)\n\tat java.lang.reflect.Method.invoke(Method.java:498)\n\tat py4j.reflection.MethodInvoker.invoke(MethodInvoker.java:244)\n\tat py4j.reflection.ReflectionEngine.invoke(ReflectionEngine.java:357)\n\tat py4j.Gateway.invoke(Gateway.java:282)\n\tat py4j.commands.AbstractCommand.invokeMethod(AbstractCommand.java:132)\n\tat py4j.commands.CallCommand.execute(CallCommand.java:79)\n\tat py4j.GatewayConnection.run(GatewayConnection.java:238)\n\tat java.lang.Thread.run(Thread.java:748)\n"
     ]
    }
   ],
   "source": [
    "# Read animes with cypher \n",
    "startTime = datetime.datetime.now()\n",
    "\n",
    "query = \"\"\"\n",
    "    CALL gds.graph.create('got-interactions', 'Person', {\n",
    "      INTERACTS: {\n",
    "        orientation: 'UNDIRECTED'\n",
    "      }\n",
    "    })\n",
    "    YIELD graphName, nodeCount, relationshipCount, createMillis\n",
    "    RETURN graphName, nodeCount, relationshipCount, createMillis\n",
    "\"\"\"\n",
    "\n",
    "query = \"\"\"\n",
    "    MATCH (n) WITH n LIMIT 10 \n",
    "    RETURN n\n",
    "\"\"\"\n",
    "\n",
    "query = \"\"\"CALL gds.graph.create.cypher(\n",
    "        '20001r_graph', \n",
    "        'MATCH (n) RETURN id(n) AS id', \n",
    "        'MATCH (n:User)-[r:WATCHED]->(m:Anime) \n",
    "            RETURN id(n) AS source, \n",
    "            id(m) AS target, \n",
    "            r.my_watched_episodes AS weight \n",
    "        LIMIT 20001')\n",
    "        \"\"\"\n",
    "\n",
    "query = \"CALL gds.graph.create.cypher('20004r_graph', 'MATCH (n) RETURN id(n) AS id', 'MATCH (n:User)-[r:WATCHED]->(m:Anime) RETURN id(n) AS source, id(m) AS target, r.my_watched_episodes AS weight LIMIT 20002') YIELD graphName RETURN graphName\"\n",
    "#         ,  configuration: {validateRelationships:false}\n",
    "\n",
    "CALL gds.graph.create.cypher('full_graph_retry', 'MATCH (n) RETURN id(n) AS id', 'MATCH (n:User)-[r:WATCHED]->(m:Anime) RETURN id(n) AS source, id(m) AS target, r.my_watched_episodes AS weight')\n",
    "\n",
    " # schema still not working!!\n",
    "temp = (spark.read.format(\"org.neo4j.spark.DataSource\")\n",
    " .option(\"query\", \"RETURN 'ok'\")\n",
    " .load())\n",
    "temp.printSchema()\n",
    "\n",
    "(spark.read.format(\"org.neo4j.spark.DataSource\")\n",
    "  # https://neo4j.com/developer/spark/faq/#graph-already-exists\n",
    " # https://neo4j.com/developer/spark/gds/\n",
    " # schema still not working!!\n",
    " .schema(StructType([StructField(\"graphName\",StringType())]))\n",
    "#  .schema(temp.schema)\n",
    " .option(\"query\", query)\n",
    " .option(\"partitions\", \"1\") \n",
    " .load()\n",
    " .show())\n",
    "\n",
    "print(datetime.datetime.now()-startTime)"
   ]
  },
  {
   "cell_type": "raw",
   "id": "50182540",
   "metadata": {},
   "source": [
    "data_file = '/import/anime/users_cleaned.csv' \n",
    "\n",
    "df = spark.read.csv(data_file, header=True, sep=\",\").cache() \n",
    "print('Total Records = {}'.format(df.count()))\n",
    "df.show(1, vertical=True)\n",
    "\n",
    "df.write.format(\"org.neo4j.spark.DataSource\") \\\n",
    "    .option(\"node.keys\", \"username\")\\\n",
    "    .option(\"schema.optimization.type\", \"INDEX\")\\\n",
    "    .mode(\"Overwrite\")\\\n",
    "    .option(\"labels\", \":User\") \\\n",
    "    .save()"
   ]
  },
  {
   "cell_type": "raw",
   "id": "55b5abf8",
   "metadata": {},
   "source": [
    "data_file = '/import/anime/anime_cleaned.csv' \n",
    "\n",
    "df = spark.read.csv(data_file, header=True, sep=\",\").cache() \n",
    "print('Total Records = {}'.format(df.count()))\n",
    "df.show(1, vertical=True)\n",
    "\n",
    "df.write.format(\"org.neo4j.spark.DataSource\") \\\n",
    "    .option(\"node.keys\", \"anime_id\")\\\n",
    "    .option(\"schema.optimization.type\", \"INDEX\")\\\n",
    "    .mode(\"Overwrite\")\\\n",
    "    .option(\"labels\", \":Anime\") \\\n",
    "    .save()"
   ]
  },
  {
   "cell_type": "raw",
   "id": "96daf5f8",
   "metadata": {},
   "source": [
    "data_file = '/import/anime/animelists_cleaned.csv' \n",
    "\n",
    "df = spark.read.csv(data_file, header=True, sep=\",\").cache() \n",
    "print('Total Records = {}'.format(df.count()))\n",
    "df.show(2)\n",
    "\n",
    "df.write.format(\"org.neo4j.spark.DataSource\") \\\n",
    "    .mode(\"Overwrite\")\\\n",
    "    .option(\"batch.size\", 256)\\\n",
    "    .option(\"relationship.properties\", \"my_watched_episodes,my_start_date,my_finish_date,my_score,my_status,my_rewatching,my_rewatching_ep,my_last_updated,my_tags\")\\\n",
    "    .option(\"relationship\", \"WATCHED\") \\\n",
    "    .option(\"relationship.save.strategy\", \"keys\") \\\n",
    "    .option(\"relationship.source.save.mode\", \"Match\")\\\n",
    "    .option(\"relationship.source.labels\", \":User\")\\\n",
    "    .option(\"relationship.source.node.keys\", \"username\")\\\n",
    "    .option(\"relationship.target.save.mode\", \"Match\")\\\n",
    "    .option(\"relationship.target.labels\", \":Anime\")\\\n",
    "    .option(\"relationship.target.node.keys\", \"anime_id\")\\\n",
    "    .save()"
   ]
  }
 ],
 "metadata": {
  "kernelspec": {
   "display_name": "Python 3",
   "language": "python",
   "name": "python3"
  },
  "language_info": {
   "codemirror_mode": {
    "name": "ipython",
    "version": 3
   },
   "file_extension": ".py",
   "mimetype": "text/x-python",
   "name": "python",
   "nbconvert_exporter": "python",
   "pygments_lexer": "ipython3",
   "version": "3.7.3"
  }
 },
 "nbformat": 4,
 "nbformat_minor": 5
}
