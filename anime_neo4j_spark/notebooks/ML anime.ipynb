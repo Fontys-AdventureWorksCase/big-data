{
 "cells": [
  {
   "cell_type": "code",
   "execution_count": 1,
   "id": "657e3fd2",
   "metadata": {},
   "outputs": [
    {
     "name": "stdout",
     "output_type": "stream",
     "text": [
      "0:00:03.538981\n"
     ]
    }
   ],
   "source": [
    "from pyspark.sql import SparkSession\n",
    "from pyspark.sql import SQLContext\n",
    "import datetime\n",
    "\n",
    "# Start spark session\n",
    "startTime = datetime.datetime.now()\n",
    "\n",
    "spark = SparkSession \\\n",
    "    .builder\\\n",
    "    .appName(\"Anime importer\") \\\n",
    "    .master(\"spark://spark-master:7077\") \\\n",
    "    .config(\"spark.driver.memory\", \"15g\") \\\n",
    "    .config(\"spark.jars\", \"/extra_jars/neo4j-connector-apache-spark_2.12-4.0.1_for_spark_3.jar\") \\\n",
    "    .config(\"neo4j.url\", \"bolt://neo4j:7687\")\\\n",
    "    .config(\"neo4j.authentication.type\", \"basic\")\\\n",
    "    .config(\"neo4j.authentication.basic.username\", \"neo4j\")\\\n",
    "    .config(\"neo4j.authentication.basic.password\", \"password\")\\\n",
    "    .getOrCreate()\n",
    "\n",
    "print(datetime.datetime.now()-startTime)"
   ]
  },
  {
   "cell_type": "raw",
   "id": "a22f731a",
   "metadata": {},
   "source": [
    "# Read animes\n",
    "startTime = datetime.datetime.now()\n",
    "\n",
    "(spark.read.format(\"org.neo4j.spark.DataSource\") \n",
    "  .option(\"url\", \"bolt://neo4j:7687\") \n",
    "  .option(\"labels\", \":Anime\") \n",
    "  .load() \n",
    "  .count())\n",
    "\n",
    "print(datetime.datetime.now()-startTime)"
   ]
  },
  {
   "cell_type": "code",
   "execution_count": null,
   "id": "1e935256",
   "metadata": {},
   "outputs": [
    {
     "name": "stdout",
     "output_type": "stream",
     "text": [
      "2021-06-17 15:09:16.439919\n"
     ]
    }
   ],
   "source": [
    "# Read animes with cypher\n",
    "startTime = datetime.datetime.now()\n",
    "print(startTime)\n",
    "\n",
    "(spark.read.format(\"org.neo4j.spark.DataSource\")\n",
    "#  .option(\"url\", \"bolt://neo4j:7687\")\n",
    " .option(\"query\", \"MATCH (a:Anime) WITH a LIMIT 2 RETURN id(a) as id, a.title as title\")\n",
    " .load()\n",
    " .show())\n",
    "\n",
    "print(datetime.datetime.now()-startTime)"
   ]
  },
  {
   "cell_type": "code",
   "execution_count": null,
   "id": "fabc5e3c",
   "metadata": {},
   "outputs": [],
   "source": [
    "# Read animes with cypher 2\n",
    "startTime = datetime.datetime.now()\n",
    "\n",
    "query = \"\"\"\n",
    "    CALL gds.graph.create('got-interactions', 'Person', {\n",
    "      INTERACTS: {\n",
    "        orientation: 'UNDIRECTED'\n",
    "      }\n",
    "    })\n",
    "    YIELD graphName, nodeCount, relationshipCount, createMillis\n",
    "    RETURN graphName, nodeCount, relationshipCount, createMillis\n",
    "\"\"\"\n",
    "\n",
    "query = \"\"\"\n",
    "    MATCH (n) WITH n LIMIT 10 \n",
    "    RETURN n\n",
    "\"\"\"\n",
    "\n",
    "query = \"\"\"\n",
    "    CALL gds.graph.create.cypher(\n",
    "        '1001r_graph', \n",
    "        'MATCH (n) RETURN id(n) AS id', \n",
    "        'MATCH (n:User)-[r:WATCHED]->(m:Anime) \n",
    "            RETURN id(n) AS source, \n",
    "            id(m) AS target, \n",
    "            r.my_watched_episodes AS weight \n",
    "        LIMIT 1001')\n",
    "\"\"\"\n",
    "\n",
    "(spark.read.format(\"org.neo4j.spark.DataSource\")\n",
    " .option(\"url\", \"bolt://neo4j:7687\")\n",
    " .option(\"query\", query)\n",
    " .option(\"partitions\", \"1\")\n",
    " .load()\n",
    " .show())\n",
    "\n",
    "# (spark.read.format(\"org.neo4j.spark.DataSource\")\n",
    "#  .option(\"url\", \"bolt://neo4j:7687\")\n",
    "#  .option(\"query\", \"CALL gds.graph.create.cypher(graphName: 'full_graph_spark3', nodeQuery: 'MATCH (a:Anime) WITH a LIMIT 100 RETURN id(a) AS id', relationshipQuery: 'MATCH (n:User)-[r:WATCHED]->(m:Anime) RETURN id(n) AS source, id(m) AS target, r.my_watched_episodes AS weight LIMIT 100', configuration: {validateRelationships:false})\")\n",
    "#  .load()\n",
    "#  .show())\n",
    "\n",
    "print(datetime.datetime.now()-startTime)"
   ]
  },
  {
   "cell_type": "raw",
   "id": "27c183a1",
   "metadata": {},
   "source": [
    "data_file = '/import/anime/users_cleaned.csv' \n",
    "\n",
    "df = spark.read.csv(data_file, header=True, sep=\",\").cache() \n",
    "print('Total Records = {}'.format(df.count()))\n",
    "df.show(1, vertical=True)\n",
    "\n",
    "df.write.format(\"org.neo4j.spark.DataSource\") \\\n",
    "    .option(\"node.keys\", \"username\")\\\n",
    "    .option(\"schema.optimization.type\", \"INDEX\")\\\n",
    "    .mode(\"Overwrite\")\\\n",
    "    .option(\"labels\", \":User\") \\\n",
    "    .save()"
   ]
  },
  {
   "cell_type": "raw",
   "id": "de42e537",
   "metadata": {},
   "source": [
    "data_file = '/import/anime/anime_cleaned.csv' \n",
    "\n",
    "df = spark.read.csv(data_file, header=True, sep=\",\").cache() \n",
    "print('Total Records = {}'.format(df.count()))\n",
    "df.show(1, vertical=True)\n",
    "\n",
    "df.write.format(\"org.neo4j.spark.DataSource\") \\\n",
    "    .option(\"node.keys\", \"anime_id\")\\\n",
    "    .option(\"schema.optimization.type\", \"INDEX\")\\\n",
    "    .mode(\"Overwrite\")\\\n",
    "    .option(\"labels\", \":Anime\") \\\n",
    "    .save()"
   ]
  },
  {
   "cell_type": "raw",
   "id": "c6d964da",
   "metadata": {},
   "source": [
    "data_file = '/import/anime/animelists_cleaned.csv' \n",
    "\n",
    "df = spark.read.csv(data_file, header=True, sep=\",\").cache() \n",
    "print('Total Records = {}'.format(df.count()))\n",
    "df.show(2)\n",
    "\n",
    "df.write.format(\"org.neo4j.spark.DataSource\") \\\n",
    "    .mode(\"Overwrite\")\\\n",
    "    .option(\"batch.size\", 256)\\\n",
    "    .option(\"relationship.properties\", \"my_watched_episodes,my_start_date,my_finish_date,my_score,my_status,my_rewatching,my_rewatching_ep,my_last_updated,my_tags\")\\\n",
    "    .option(\"relationship\", \"WATCHED\") \\\n",
    "    .option(\"relationship.save.strategy\", \"keys\") \\\n",
    "    .option(\"relationship.source.save.mode\", \"Match\")\\\n",
    "    .option(\"relationship.source.labels\", \":User\")\\\n",
    "    .option(\"relationship.source.node.keys\", \"username\")\\\n",
    "    .option(\"relationship.target.save.mode\", \"Match\")\\\n",
    "    .option(\"relationship.target.labels\", \":Anime\")\\\n",
    "    .option(\"relationship.target.node.keys\", \"anime_id\")\\\n",
    "    .save()"
   ]
  }
 ],
 "metadata": {
  "kernelspec": {
   "display_name": "Python 3",
   "language": "python",
   "name": "python3"
  },
  "language_info": {
   "codemirror_mode": {
    "name": "ipython",
    "version": 3
   },
   "file_extension": ".py",
   "mimetype": "text/x-python",
   "name": "python",
   "nbconvert_exporter": "python",
   "pygments_lexer": "ipython3",
   "version": "3.7.3"
  }
 },
 "nbformat": 4,
 "nbformat_minor": 5
}
