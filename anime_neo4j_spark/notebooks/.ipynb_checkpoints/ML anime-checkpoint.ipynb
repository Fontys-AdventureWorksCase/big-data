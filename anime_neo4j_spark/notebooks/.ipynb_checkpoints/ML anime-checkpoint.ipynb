{
 "cells": [
  {
   "cell_type": "code",
   "execution_count": 1,
   "id": "e6bd781f",
   "metadata": {},
   "outputs": [
    {
     "name": "stdout",
     "output_type": "stream",
     "text": [
      "0:00:03.678204\n"
     ]
    }
   ],
   "source": [
    "from pyspark.sql import SparkSession\n",
    "from pyspark.sql import SQLContext\n",
    "import datetime\n",
    "\n",
    "# Start spark session\n",
    "startTime = datetime.datetime.now()\n",
    "\n",
    "spark = SparkSession \\\n",
    "    .builder\\\n",
    "    .appName(\"Anime importer\") \\\n",
    "    .master(\"spark://spark-master:7077\") \\\n",
    "    .config(\"spark.driver.memory\", \"15g\") \\\n",
    "    .config(\"spark.jars\", \"/extra_jars/neo4j-connector-apache-spark_2.12-4.0.1_for_spark_3.jar\") \\\n",
    "    .config(\"neo4j.url\", \"bolt://neo4j:7687\")\\\n",
    "    .config(\"neo4j.authentication.type\", \"basic\")\\\n",
    "    .config(\"neo4j.authentication.basic.username\", \"neo4j\")\\\n",
    "    .config(\"neo4j.authentication.basic.password\", \"password\")\\\n",
    "    .getOrCreate()\n",
    "\n",
    "print(datetime.datetime.now()-startTime)"
   ]
  },
  {
   "cell_type": "code",
   "execution_count": 2,
   "id": "a5c551aa",
   "metadata": {},
   "outputs": [
    {
     "name": "stdout",
     "output_type": "stream",
     "text": [
      "2021-06-17 16:12:12.228413\n",
      "+------+--------------------+\n",
      "|    id|               title|\n",
      "+------+--------------------+\n",
      "|108712|Tezuka Osamu no B...|\n",
      "|108713|Kono Danshi, Maho...|\n",
      "+------+--------------------+\n",
      "\n",
      "0:00:06.149883\n"
     ]
    }
   ],
   "source": [
    "# Read animes with cypher test\n",
    "startTime = datetime.datetime.now()\n",
    "print(startTime)\n",
    "\n",
    "(spark.read.format(\"org.neo4j.spark.DataSource\")\n",
    "#  .option(\"labels\", \":Anime\") \n",
    " .option(\"query\", \"MATCH (a:Anime) WITH a LIMIT 2 RETURN id(a) as id, a.title as title\")\n",
    " .load()\n",
    " .show())\n",
    "\n",
    "print(datetime.datetime.now()-startTime)"
   ]
  },
  {
   "cell_type": "code",
   "execution_count": null,
   "id": "4236fbf3",
   "metadata": {},
   "outputs": [],
   "source": [
    "# Read animes with cypher \n",
    "startTime = datetime.datetime.now()\n",
    "\n",
    "query = \"\"\"\n",
    "    CALL gds.graph.create('got-interactions', 'Person', {\n",
    "      INTERACTS: {\n",
    "        orientation: 'UNDIRECTED'\n",
    "      }\n",
    "    })\n",
    "    YIELD graphName, nodeCount, relationshipCount, createMillis\n",
    "    RETURN graphName, nodeCount, relationshipCount, createMillis\n",
    "\"\"\"\n",
    "\n",
    "query = \"\"\"\n",
    "    MATCH (n) WITH n LIMIT 10 \n",
    "    RETURN n\n",
    "\"\"\"\n",
    "\n",
    "query = \"\"\"CALL gds.graph.create.cypher(\n",
    "        '20001r_graph', \n",
    "        'MATCH (n) RETURN id(n) AS id', \n",
    "        'MATCH (n:User)-[r:WATCHED]->(m:Anime) \n",
    "            RETURN id(n) AS source, \n",
    "            id(m) AS target, \n",
    "            r.my_watched_episodes AS weight \n",
    "        LIMIT 20001')\n",
    "        \"\"\"\n",
    "\n",
    "query = \"CALL gds.graph.create.cypher('20004r_graph', 'MATCH (n) RETURN id(n) AS id', 'MATCH (n:User)-[r:WATCHED]->(m:Anime) RETURN id(n) AS source, id(m) AS target, r.my_watched_episodes AS weight LIMIT 20002') YIELD createMillis RETURN createMillis\"\n",
    "#         ,  configuration: {validateRelationships:false}\n",
    "\n",
    "\n",
    "(spark.read.format(\"org.neo4j.spark.DataSource\")\n",
    "  # https://neo4j.com/developer/spark/faq/#graph-already-exists\n",
    " .schema(StructType(StructField(\"createMillis\", DataTypes.IntegerType)))\n",
    " .option(\"query\", query)\n",
    " .option(\"partitions\", \"1\") # https://neo4j.com/developer/spark/gds/\n",
    " .load()\n",
    " .show())\n",
    "\n",
    "print(datetime.datetime.now()-startTime)"
   ]
  },
  {
   "cell_type": "raw",
   "id": "a077a718",
   "metadata": {},
   "source": [
    "data_file = '/import/anime/users_cleaned.csv' \n",
    "\n",
    "df = spark.read.csv(data_file, header=True, sep=\",\").cache() \n",
    "print('Total Records = {}'.format(df.count()))\n",
    "df.show(1, vertical=True)\n",
    "\n",
    "df.write.format(\"org.neo4j.spark.DataSource\") \\\n",
    "    .option(\"node.keys\", \"username\")\\\n",
    "    .option(\"schema.optimization.type\", \"INDEX\")\\\n",
    "    .mode(\"Overwrite\")\\\n",
    "    .option(\"labels\", \":User\") \\\n",
    "    .save()"
   ]
  },
  {
   "cell_type": "raw",
   "id": "e77b91d0",
   "metadata": {},
   "source": [
    "data_file = '/import/anime/anime_cleaned.csv' \n",
    "\n",
    "df = spark.read.csv(data_file, header=True, sep=\",\").cache() \n",
    "print('Total Records = {}'.format(df.count()))\n",
    "df.show(1, vertical=True)\n",
    "\n",
    "df.write.format(\"org.neo4j.spark.DataSource\") \\\n",
    "    .option(\"node.keys\", \"anime_id\")\\\n",
    "    .option(\"schema.optimization.type\", \"INDEX\")\\\n",
    "    .mode(\"Overwrite\")\\\n",
    "    .option(\"labels\", \":Anime\") \\\n",
    "    .save()"
   ]
  },
  {
   "cell_type": "raw",
   "id": "84072d55",
   "metadata": {},
   "source": [
    "data_file = '/import/anime/animelists_cleaned.csv' \n",
    "\n",
    "df = spark.read.csv(data_file, header=True, sep=\",\").cache() \n",
    "print('Total Records = {}'.format(df.count()))\n",
    "df.show(2)\n",
    "\n",
    "df.write.format(\"org.neo4j.spark.DataSource\") \\\n",
    "    .mode(\"Overwrite\")\\\n",
    "    .option(\"batch.size\", 256)\\\n",
    "    .option(\"relationship.properties\", \"my_watched_episodes,my_start_date,my_finish_date,my_score,my_status,my_rewatching,my_rewatching_ep,my_last_updated,my_tags\")\\\n",
    "    .option(\"relationship\", \"WATCHED\") \\\n",
    "    .option(\"relationship.save.strategy\", \"keys\") \\\n",
    "    .option(\"relationship.source.save.mode\", \"Match\")\\\n",
    "    .option(\"relationship.source.labels\", \":User\")\\\n",
    "    .option(\"relationship.source.node.keys\", \"username\")\\\n",
    "    .option(\"relationship.target.save.mode\", \"Match\")\\\n",
    "    .option(\"relationship.target.labels\", \":Anime\")\\\n",
    "    .option(\"relationship.target.node.keys\", \"anime_id\")\\\n",
    "    .save()"
   ]
  }
 ],
 "metadata": {
  "kernelspec": {
   "display_name": "Python 3",
   "language": "python",
   "name": "python3"
  },
  "language_info": {
   "codemirror_mode": {
    "name": "ipython",
    "version": 3
   },
   "file_extension": ".py",
   "mimetype": "text/x-python",
   "name": "python",
   "nbconvert_exporter": "python",
   "pygments_lexer": "ipython3",
   "version": "3.7.3"
  }
 },
 "nbformat": 4,
 "nbformat_minor": 5
}
