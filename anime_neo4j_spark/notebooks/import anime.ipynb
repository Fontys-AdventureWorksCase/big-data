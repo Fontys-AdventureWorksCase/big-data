{
 "cells": [
  {
   "cell_type": "code",
   "execution_count": 1,
   "id": "55dc1768",
   "metadata": {},
   "outputs": [
    {
     "name": "stdout",
     "output_type": "stream",
     "text": [
      "0:00:03.644001\n"
     ]
    }
   ],
   "source": [
    "from pyspark.sql import SparkSession\n",
    "from pyspark.sql import SQLContext\n",
    "import datetime\n",
    "\n",
    "# Start spark session\n",
    "startTime = datetime.datetime.now()\n",
    "\n",
    "spark = SparkSession \\\n",
    "    .builder\\\n",
    "    .appName(\"Anime importer\") \\\n",
    "    .master(\"spark://spark-master:7077\") \\\n",
    "    .config(\"spark.driver.memory\", \"15g\") \\\n",
    "    .config(\"spark.jars\", \"/extra_jars/neo4j-connector-apache-spark_2.12-4.0.1_for_spark_3.jar\") \\\n",
    "    .config(\"neo4j.url\", \"bolt://neo4j:7687\")\\\n",
    "    .config(\"neo4j.authentication.type\", \"basic\")\\\n",
    "    .config(\"neo4j.authentication.basic.username\", \"neo4j\")\\\n",
    "    .config(\"neo4j.authentication.basic.password\", \"password\")\\\n",
    "    .getOrCreate()\n",
    "\n",
    "print(datetime.datetime.now()-startTime)"
   ]
  },
  {
   "cell_type": "code",
   "execution_count": 4,
   "id": "d542db3f",
   "metadata": {},
   "outputs": [
    {
     "name": "stdout",
     "output_type": "stream",
     "text": [
      "-RECORD 0-------------------------------\n",
      " <id>            | 339472               \n",
      " <labels>        | [Anime]              \n",
      " type            | TV                   \n",
      " title_synonyms  | Youko x Boku SS      \n",
      " title_japanese  | 妖狐×僕SS            \n",
      " title_english   | Inu X Boku Secret... \n",
      " title           | Inu x Boku SS        \n",
      " studio          | David Production     \n",
      " status          | Finished Airing      \n",
      " source          | Manga                \n",
      " scored_by       | 139250               \n",
      " score           | 7.63                 \n",
      " related         | {'Adaptation': [{... \n",
      " rating          | PG-13 - Teens 13 ... \n",
      " rank            | 1274.0               \n",
      " producer        | Aniplex, Square E... \n",
      " premiered       | Winter 2012          \n",
      " popularity      | 231                  \n",
      " opening_theme   | \"['\"\"Nirvana\"\" by... \n",
      " members         | 283882               \n",
      " licensor        | Sentai Filmworks     \n",
      " image_url       | https://myanimeli... \n",
      " genre           | Comedy, Supernatu... \n",
      " favorites       | 2809                 \n",
      " episodes        | 12                   \n",
      " ending_theme    | \"['#1: \"\"Nirvana\"... \n",
      " duration_min    |  11-12)'             \n",
      " duration        | 24 min. per ep.      \n",
      " broadcast       | Fridays at Unknown   \n",
      " background      | Inu x Boku SS was... \n",
      " anime_id        | 11013                \n",
      " airing          | False                \n",
      " aired_string    | Jan 13, 2012 to M... \n",
      " aired_from_year |  '#2: \"\"Rakuen no... \n",
      " aired           | {'from': '2012-01... \n",
      "only showing top 1 row\n",
      "\n",
      "0:00:00.660707\n"
     ]
    }
   ],
   "source": [
    "startTime = datetime.datetime.now()\n",
    "\n",
    "spark.read.format(\"org.neo4j.spark.DataSource\") \\\n",
    "  .option(\"url\", \"bolt://neo4j:7687\") \\\n",
    "  .option(\"labels\", \"Anime\") \\\n",
    "  .load() \\\n",
    "  .show(1, vertical=True)\n",
    "\n",
    "print(datetime.datetime.now()-startTime)"
   ]
  },
  {
   "cell_type": "raw",
   "id": "056f59f0",
   "metadata": {},
   "source": [
    "data_file = '/import/anime/users_cleaned.csv' \n",
    "\n",
    "df = spark.read.csv(data_file, header=True, sep=\",\").cache() \n",
    "print('Total Records = {}'.format(df.count()))\n",
    "df.show(1, vertical=True)\n",
    "\n",
    "df.write.format(\"org.neo4j.spark.DataSource\") \\\n",
    "    .option(\"node.keys\", \"username\")\\\n",
    "    .option(\"schema.optimization.type\", \"INDEX\")\\\n",
    "    .mode(\"Overwrite\")\\\n",
    "    .option(\"labels\", \":User\") \\\n",
    "    .save()"
   ]
  },
  {
   "cell_type": "raw",
   "id": "30965525",
   "metadata": {},
   "source": [
    "data_file = '/import/anime/anime_cleaned.csv' \n",
    "\n",
    "df = spark.read.csv(data_file, header=True, sep=\",\").cache() \n",
    "print('Total Records = {}'.format(df.count()))\n",
    "df.show(1, vertical=True)\n",
    "\n",
    "df.write.format(\"org.neo4j.spark.DataSource\") \\\n",
    "    .option(\"node.keys\", \"anime_id\")\\\n",
    "    .option(\"schema.optimization.type\", \"INDEX\")\\\n",
    "    .mode(\"Overwrite\")\\\n",
    "    .option(\"labels\", \":Anime\") \\\n",
    "    .save()"
   ]
  },
  {
   "cell_type": "raw",
   "id": "851d4921",
   "metadata": {},
   "source": [
    "data_file = '/import/anime/animelists_cleaned.csv' \n",
    "\n",
    "df = spark.read.csv(data_file, header=True, sep=\",\").cache() \n",
    "print('Total Records = {}'.format(df.count()))\n",
    "df.show(2)\n",
    "\n",
    "df.write.format(\"org.neo4j.spark.DataSource\") \\\n",
    "    .mode(\"Overwrite\")\\\n",
    "    .option(\"batch.size\", 256)\\\n",
    "    .option(\"relationship.properties\", \"my_watched_episodes,my_start_date,my_finish_date,my_score,my_status,my_rewatching,my_rewatching_ep,my_last_updated,my_tags\")\\\n",
    "    .option(\"relationship\", \"WATCHED\") \\\n",
    "    .option(\"relationship.save.strategy\", \"keys\") \\\n",
    "    .option(\"relationship.source.save.mode\", \"Match\")\\\n",
    "    .option(\"relationship.source.labels\", \":User\")\\\n",
    "    .option(\"relationship.source.node.keys\", \"username\")\\\n",
    "    .option(\"relationship.target.save.mode\", \"Match\")\\\n",
    "    .option(\"relationship.target.labels\", \":Anime\")\\\n",
    "    .option(\"relationship.target.node.keys\", \"anime_id\")\\\n",
    "    .save()"
   ]
  }
 ],
 "metadata": {
  "kernelspec": {
   "display_name": "Python 3",
   "language": "python",
   "name": "python3"
  },
  "language_info": {
   "codemirror_mode": {
    "name": "ipython",
    "version": 3
   },
   "file_extension": ".py",
   "mimetype": "text/x-python",
   "name": "python",
   "nbconvert_exporter": "python",
   "pygments_lexer": "ipython3",
   "version": "3.7.3"
  }
 },
 "nbformat": 4,
 "nbformat_minor": 5
}
