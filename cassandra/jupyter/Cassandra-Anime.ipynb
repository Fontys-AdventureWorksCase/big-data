{
 "cells": [
  {
   "cell_type": "markdown",
   "id": "12709784",
   "metadata": {},
   "source": [
    "The first step is to create the neccesary import schema"
   ]
  },
  {
   "cell_type": "code",
   "execution_count": 1,
   "id": "9bd81ab4",
   "metadata": {},
   "outputs": [],
   "source": [
    "from cassandra.cluster import Cluster\n",
    "\n",
    "cluster = Cluster(['dse','node'])  # provide contact points and port\n",
    "session = cluster.connect()\n",
    "rows = session.execute(\n",
    "    \"CREATE KEYSPACE IF NOT EXISTS anime WITH replication = {'class':'SimpleStrategy', 'replication_factor':1};\")"
   ]
  },
  {
   "cell_type": "markdown",
   "id": "c082c93f",
   "metadata": {},
   "source": [
    "Import the tables"
   ]
  },
  {
   "cell_type": "code",
   "execution_count": 2,
   "id": "12720abb",
   "metadata": {},
   "outputs": [
    {
     "data": {
      "text/plain": [
       "<cassandra.cluster.ResultSet at 0x7fcca4f3a1d0>"
      ]
     },
     "execution_count": 2,
     "metadata": {},
     "output_type": "execute_result"
    }
   ],
   "source": [
    "session.execute(\"\"\"CREATE TABLE anime.useranimelist (\n",
    "\tusername text,\n",
    "\tanime_id int,\n",
    "\tmy_watched_episodes int,\n",
    "\tmy_start_date text,\n",
    "\tmy_finish_date text,\n",
    "\tmy_score int,\n",
    "\tmy_status int,\n",
    "\tmy_rewatching text,\n",
    "\tmy_rewatching_ep text,\n",
    "\tmy_last_updated text,\n",
    "\tmy_tags text,\n",
    "\n",
    "\tPRIMARY KEY (username, anime_id)\n",
    ") WITH bloom_filter_fp_chance = 0.01\n",
    "AND comment = ''\n",
    "AND crc_check_chance = 1.0\n",
    "AND dclocal_read_repair_chance = 0.1\n",
    "AND default_time_to_live = 0\n",
    "AND gc_grace_seconds = 864000\n",
    "AND max_index_interval = 2048\n",
    "AND memtable_flush_period_in_ms = 0\n",
    "AND min_index_interval = 128\n",
    "AND read_repair_chance = 0.0\n",
    "AND speculative_retry = '99.0PERCENTILE'\n",
    "AND caching = {\n",
    "\t'keys' : 'ALL',\n",
    "\t'rows_per_partition' : 'NONE'\n",
    "}\n",
    "AND compression = {\n",
    "\t'chunk_length_in_kb' : 16,\n",
    "\t'class' : 'LZ4Compressor',\n",
    "\t'crc_check_chance' : 1.0,\n",
    "\t'enabled' : true\n",
    "}\n",
    "AND compaction = {\n",
    "\t'bucket_high' : 1.5,\n",
    "\t'bucket_low' : 0.5,\n",
    "\t'class' : 'SizeTieredCompactionStrategy',\n",
    "\t'enabled' : true,\n",
    "\t'max_threshold' : 32,\n",
    "\t'min_sstable_size' : 50,\n",
    "\t'min_threshold' : 4,\n",
    "\t'tombstone_compaction_interval' : 86400,\n",
    "\t'tombstone_threshold' : 0.2,\n",
    "\t'unchecked_tombstone_compaction' : false\n",
    "};\"\"\")"
   ]
  },
  {
   "cell_type": "code",
   "execution_count": null,
   "id": "79885e12",
   "metadata": {},
   "outputs": [],
   "source": [
    "session.execute(\"\"\"\n",
    "CREATE TABLE anime.animelist (\n",
    "\tanime_id int,\n",
    "\taired text,\n",
    "\tairing text,\n",
    "\tbackground text,\n",
    "\tbroadcast text,\n",
    "\tduration text,\n",
    "\tending_theme text,\n",
    "\tepisodes int,\n",
    "\tfavorites bigint,\n",
    "\tgenre text,\n",
    "\timage_url text,\n",
    "\tlicensor text,\n",
    "\tmembers bigint,\n",
    "\topening_theme text,\n",
    "\tpopularity bigint,\n",
    "\tpremiered text,\n",
    "\tproducer text,\n",
    "\trank bigint,\n",
    "\trating text,\n",
    "\trelated text,\n",
    "\tscore decimal,\n",
    "\tscored_by bigint,\n",
    "\tsource text,\n",
    "\tstatus text,\n",
    "\tstudio text,\n",
    "\ttitle text,\n",
    "\ttitle_english text,\n",
    "\ttitle_japanese text,\n",
    "\ttitle_synonyms text,\n",
    "\ttype text,\n",
    "\tPRIMARY KEY (anime_id)\n",
    ") WITH bloom_filter_fp_chance = 0.01\n",
    "AND comment = ''\n",
    "AND crc_check_chance = 1.0\n",
    "AND dclocal_read_repair_chance = 0.1\n",
    "AND default_time_to_live = 0\n",
    "AND gc_grace_seconds = 864000\n",
    "AND max_index_interval = 2048\n",
    "AND memtable_flush_period_in_ms = 0\n",
    "AND min_index_interval = 128\n",
    "AND read_repair_chance = 0.0\n",
    "AND speculative_retry = '99.0PERCENTILE'\n",
    "AND caching = {\n",
    "\t'keys' : 'ALL',\n",
    "\t'rows_per_partition' : 'NONE'\n",
    "}\n",
    "AND compression = {\n",
    "\t'chunk_length_in_kb' : 16,\n",
    "\t'class' : 'LZ4Compressor',\n",
    "\t'crc_check_chance' : 1.0,\n",
    "\t'enabled' : true\n",
    "}\n",
    "AND compaction = {\n",
    "\t'bucket_high' : 1.5,\n",
    "\t'bucket_low' : 0.5,\n",
    "\t'class' : 'SizeTieredCompactionStrategy',\n",
    "\t'enabled' : true,\n",
    "\t'max_threshold' : 32,\n",
    "\t'min_sstable_size' : 50,\n",
    "\t'min_threshold' : 4,\n",
    "\t'tombstone_compaction_interval' : 86400,\n",
    "\t'tombstone_threshold' : 0.2,\n",
    "\t'unchecked_tombstone_compaction' : false\n",
    "};\n",
    "\n",
    "\n",
    "\"\"\")"
   ]
  },
  {
   "cell_type": "markdown",
   "id": "7a923490",
   "metadata": {},
   "source": [
    "Next the data must be imported first (dsbulk tool) using the dataset from https://www.kaggle.com/azathoth42/myanimelist\n",
    "\n",
    "The following csv's need to be imported\n",
    " * UserAnimeList.csv\n",
    " * AnimeList.csv"
   ]
  },
  {
   "cell_type": "code",
   "execution_count": 11,
   "id": "2a35ed32",
   "metadata": {},
   "outputs": [],
   "source": [
    "from pyspark import SparkConf, SparkContext\n",
    "from pyspark.sql import SparkSession\n",
    "\n",
    "from pyspark.sql.functions import mean\n",
    "from pyspark.sql.functions import sum\n",
    "from pyspark.sql.functions import desc\n",
    "from pyspark.sql.functions import count\n",
    "\n",
    "spark = SparkSession.builder.appName('demo').master(\"dse://?\").getOrCreate()\n",
    "\n",
    "animeDF = spark.read.format(\"org.apache.spark.sql.cassandra\").options(table=\"animelist\", keyspace=\"anime\").load()\n",
    "animeusersDF = spark.read.format(\"org.apache.spark.sql.cassandra\").options(table=\"useranimelist\", keyspace=\"anime\").load()\n",
    "\n",
    "stage2 = animeusersDF.groupBy(\"anime_id\").agg(sum(\"my_score\"),count(\"anime_id\")).sort(desc(\"sum(my_score)\"))\n",
    "\n",
    "result = stage2.join(animeDF,stage2.anime_id==animeDF.anime_id).select(animeDF.title_english,\"sum(my_score)\")\n"
   ]
  },
  {
   "cell_type": "code",
   "execution_count": 21,
   "id": "043a53ed",
   "metadata": {
    "scrolled": true
   },
   "outputs": [],
   "source": [
    "\n",
    "import numpy as np\n",
    "import pandas as pd\n",
    "import matplotlib.pyplot as plt\n",
    "\n",
    "res = result.limit(5).toPandas()\n"
   ]
  },
  {
   "cell_type": "code",
   "execution_count": 20,
   "id": "99bf83a6",
   "metadata": {},
   "outputs": [
    {
     "ename": "TypeError",
     "evalue": "publish() got an unexpected keyword argument 'width'",
     "output_type": "error",
     "traceback": [
      "\u001b[0;31m---------------------------------------------------------------------------\u001b[0m",
      "\u001b[0;31mTypeError\u001b[0m                                 Traceback (most recent call last)",
      "\u001b[0;32m<ipython-input-20-4308b015ed47>\u001b[0m in \u001b[0;36m<module>\u001b[0;34m\u001b[0m\n\u001b[1;32m      1\u001b[0m \u001b[0;32mfrom\u001b[0m \u001b[0mIPython\u001b[0m\u001b[0;34m.\u001b[0m\u001b[0mdisplay\u001b[0m \u001b[0;32mimport\u001b[0m \u001b[0mdisplay\u001b[0m\u001b[0;34m\u001b[0m\u001b[0;34m\u001b[0m\u001b[0m\n\u001b[1;32m      2\u001b[0m \u001b[0;34m\u001b[0m\u001b[0m\n\u001b[0;32m----> 3\u001b[0;31m \u001b[0mdisplay\u001b[0m\u001b[0;34m(\u001b[0m\u001b[0mres\u001b[0m\u001b[0;34m,\u001b[0m\u001b[0mwidth\u001b[0m\u001b[0;34m=\u001b[0m\u001b[0;36m1000\u001b[0m\u001b[0;34m,\u001b[0m\u001b[0mheight\u001b[0m\u001b[0;34m=\u001b[0m\u001b[0;36m1000\u001b[0m\u001b[0;34m)\u001b[0m\u001b[0;34m\u001b[0m\u001b[0;34m\u001b[0m\u001b[0m\n\u001b[0m",
      "\u001b[0;32m/usr/local/lib/python3.7/dist-packages/IPython/core/display.py\u001b[0m in \u001b[0;36mdisplay\u001b[0;34m(include, exclude, metadata, transient, display_id, *objs, **kwargs)\u001b[0m\n\u001b[1;32m    325\u001b[0m                 \u001b[0;31m# kwarg-specified metadata gets precedence\u001b[0m\u001b[0;34m\u001b[0m\u001b[0;34m\u001b[0m\u001b[0;34m\u001b[0m\u001b[0m\n\u001b[1;32m    326\u001b[0m                 \u001b[0m_merge\u001b[0m\u001b[0;34m(\u001b[0m\u001b[0mmd_dict\u001b[0m\u001b[0;34m,\u001b[0m \u001b[0mmetadata\u001b[0m\u001b[0;34m)\u001b[0m\u001b[0;34m\u001b[0m\u001b[0;34m\u001b[0m\u001b[0m\n\u001b[0;32m--> 327\u001b[0;31m             \u001b[0mpublish_display_data\u001b[0m\u001b[0;34m(\u001b[0m\u001b[0mdata\u001b[0m\u001b[0;34m=\u001b[0m\u001b[0mformat_dict\u001b[0m\u001b[0;34m,\u001b[0m \u001b[0mmetadata\u001b[0m\u001b[0;34m=\u001b[0m\u001b[0mmd_dict\u001b[0m\u001b[0;34m,\u001b[0m \u001b[0;34m**\u001b[0m\u001b[0mkwargs\u001b[0m\u001b[0;34m)\u001b[0m\u001b[0;34m\u001b[0m\u001b[0;34m\u001b[0m\u001b[0m\n\u001b[0m\u001b[1;32m    328\u001b[0m     \u001b[0;32mif\u001b[0m \u001b[0mdisplay_id\u001b[0m\u001b[0;34m:\u001b[0m\u001b[0;34m\u001b[0m\u001b[0;34m\u001b[0m\u001b[0m\n\u001b[1;32m    329\u001b[0m         \u001b[0;32mreturn\u001b[0m \u001b[0mDisplayHandle\u001b[0m\u001b[0;34m(\u001b[0m\u001b[0mdisplay_id\u001b[0m\u001b[0;34m)\u001b[0m\u001b[0;34m\u001b[0m\u001b[0;34m\u001b[0m\u001b[0m\n",
      "\u001b[0;32m/usr/local/lib/python3.7/dist-packages/IPython/core/display.py\u001b[0m in \u001b[0;36mpublish_display_data\u001b[0;34m(data, metadata, source, transient, **kwargs)\u001b[0m\n\u001b[1;32m    120\u001b[0m         \u001b[0mdata\u001b[0m\u001b[0;34m=\u001b[0m\u001b[0mdata\u001b[0m\u001b[0;34m,\u001b[0m\u001b[0;34m\u001b[0m\u001b[0;34m\u001b[0m\u001b[0m\n\u001b[1;32m    121\u001b[0m         \u001b[0mmetadata\u001b[0m\u001b[0;34m=\u001b[0m\u001b[0mmetadata\u001b[0m\u001b[0;34m,\u001b[0m\u001b[0;34m\u001b[0m\u001b[0;34m\u001b[0m\u001b[0m\n\u001b[0;32m--> 122\u001b[0;31m         \u001b[0;34m**\u001b[0m\u001b[0mkwargs\u001b[0m\u001b[0;34m\u001b[0m\u001b[0;34m\u001b[0m\u001b[0m\n\u001b[0m\u001b[1;32m    123\u001b[0m     )\n\u001b[1;32m    124\u001b[0m \u001b[0;34m\u001b[0m\u001b[0m\n",
      "\u001b[0;31mTypeError\u001b[0m: publish() got an unexpected keyword argument 'width'"
     ]
    }
   ],
   "source": [
    "from IPython.display import display\n",
    "output = res.plot.bar(x='title_english', y='sum(my_score)', rot='vertical', figsize=(1000,1000))\n",
    "display(output)"
   ]
  },
  {
   "cell_type": "code",
   "execution_count": null,
   "id": "fc654123",
   "metadata": {},
   "outputs": [],
   "source": []
  }
 ],
 "metadata": {
  "celltoolbar": "Tags",
  "kernelspec": {
   "display_name": "Python 3",
   "language": "python",
   "name": "python3"
  },
  "language_info": {
   "codemirror_mode": {
    "name": "ipython",
    "version": 3
   },
   "file_extension": ".py",
   "mimetype": "text/x-python",
   "name": "python",
   "nbconvert_exporter": "python",
   "pygments_lexer": "ipython3",
   "version": "3.7.3"
  }
 },
 "nbformat": 4,
 "nbformat_minor": 5
}
