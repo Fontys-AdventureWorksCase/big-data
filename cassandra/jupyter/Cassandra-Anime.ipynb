{
 "cells": [
  {
   "cell_type": "markdown",
   "id": "12709784",
   "metadata": {},
   "source": [
    "The first step is to create the neccesary import schema"
   ]
  },
  {
   "cell_type": "code",
   "execution_count": 15,
   "id": "9bd81ab4",
   "metadata": {},
   "outputs": [
    {
     "name": "stderr",
     "output_type": "stream",
     "text": [
      "/usr/local/lib/python3.7/dist-packages/ipykernel_launcher.py:5: DeprecationWarning: Legacy execution parameters will be removed in 4.0. Consider using execution profiles.\n",
      "  \"\"\"\n"
     ]
    }
   ],
   "source": [
    "from cassandra.cluster import Cluster\n",
    "from cassandra.cluster import DCAwareRoundRobinPolicy\n",
    "\n",
    "cluster = Cluster(['dse'],\n",
    "                  load_balancing_policy=DCAwareRoundRobinPolicy(local_dc='dc1'))  # provide contact points and port\n",
    "session = cluster.connect()\n",
    "rows = session.execute(\n",
    "    \"CREATE KEYSPACE IF NOT EXISTS anime WITH replication = {'class':'SimpleStrategy', 'replication_factor':2};\")"
   ]
  },
  {
   "cell_type": "markdown",
   "id": "c082c93f",
   "metadata": {},
   "source": [
    "Import the tables"
   ]
  },
  {
   "cell_type": "code",
   "execution_count": 16,
   "id": "12720abb",
   "metadata": {},
   "outputs": [
    {
     "data": {
      "text/plain": [
       "<cassandra.cluster.ResultSet at 0x7f84fc3bb6a0>"
      ]
     },
     "execution_count": 16,
     "metadata": {},
     "output_type": "execute_result"
    }
   ],
   "source": [
    "session.execute(\"\"\"CREATE TABLE anime.useranimelist (\n",
    "\tusername text,\n",
    "\tanime_id int,\n",
    "\tmy_watched_episodes int,\n",
    "\tmy_start_date text,\n",
    "\tmy_finish_date text,\n",
    "\tmy_score int,\n",
    "\tmy_status int,\n",
    "\tmy_rewatching text,\n",
    "\tmy_rewatching_ep text,\n",
    "\tmy_last_updated text,\n",
    "\tmy_tags text,\n",
    "\n",
    "\tPRIMARY KEY (username, anime_id)\n",
    ") WITH bloom_filter_fp_chance = 0.01\n",
    "AND comment = ''\n",
    "AND crc_check_chance = 1.0\n",
    "AND dclocal_read_repair_chance = 0.1\n",
    "AND default_time_to_live = 0\n",
    "AND gc_grace_seconds = 864000\n",
    "AND max_index_interval = 2048\n",
    "AND memtable_flush_period_in_ms = 0\n",
    "AND min_index_interval = 128\n",
    "AND read_repair_chance = 0.0\n",
    "AND speculative_retry = '99.0PERCENTILE'\n",
    "AND caching = {\n",
    "\t'keys' : 'ALL',\n",
    "\t'rows_per_partition' : 'NONE'\n",
    "}\n",
    "AND compression = {\n",
    "\t'chunk_length_in_kb' : 16,\n",
    "\t'class' : 'LZ4Compressor',\n",
    "\t'crc_check_chance' : 1.0,\n",
    "\t'enabled' : true\n",
    "}\n",
    "AND compaction = {\n",
    "\t'bucket_high' : 1.5,\n",
    "\t'bucket_low' : 0.5,\n",
    "\t'class' : 'SizeTieredCompactionStrategy',\n",
    "\t'enabled' : true,\n",
    "\t'max_threshold' : 32,\n",
    "\t'min_sstable_size' : 50,\n",
    "\t'min_threshold' : 4,\n",
    "\t'tombstone_compaction_interval' : 86400,\n",
    "\t'tombstone_threshold' : 0.2,\n",
    "\t'unchecked_tombstone_compaction' : false\n",
    "};\"\"\")"
   ]
  },
  {
   "cell_type": "code",
   "execution_count": 17,
   "id": "79885e12",
   "metadata": {},
   "outputs": [
    {
     "data": {
      "text/plain": [
       "<cassandra.cluster.ResultSet at 0x7f84fc4371d0>"
      ]
     },
     "execution_count": 17,
     "metadata": {},
     "output_type": "execute_result"
    },
    {
     "name": "stderr",
     "output_type": "stream",
     "text": [
      "WARNING:cassandra.connection:Heartbeat failed for connection (140209144275352) to 172.30.0.3:9042\n",
      "WARNING:cassandra.connection:Heartbeat failed for connection (140209198740984) to 172.30.0.3:9042\n",
      "WARNING:cassandra.connection:Heartbeat failed for connection (140209198556048) to 172.30.0.3:9042\n",
      "WARNING:cassandra.connection:Heartbeat failed for connection (140209569416920) to 172.30.0.3:9042\n",
      "WARNING:cassandra.connection:Heartbeat failed for connection (140209569383928) to 172.30.0.4:9042\n",
      "WARNING:cassandra.connection:Heartbeat failed for connection (140209146442192) to 172.30.0.3:9042\n",
      "WARNING:cassandra.connection:Heartbeat failed for connection (140209146417672) to 172.30.0.3:9042\n",
      "WARNING:cassandra.cluster:Host 172.30.0.3:9042 has been marked down\n",
      "WARNING:cassandra.cluster:Host 172.30.0.3:9042 has been marked down\n",
      "WARNING:cassandra.cluster:Host 172.30.0.3:9042 has been marked down\n",
      "WARNING:cassandra.cluster:Host 172.30.0.3:9042 has been marked down\n",
      "WARNING:cassandra.cluster:Host 172.30.0.4:9042 has been marked down\n",
      "WARNING:cassandra.cluster:Host 172.30.0.3:9042 has been marked down\n",
      "WARNING:cassandra.cluster:Host 172.30.0.3:9042 has been marked down\n",
      "WARNING:cassandra.cluster:[control connection] Error connecting to 172.30.0.4:9042:\n",
      "Traceback (most recent call last):\n",
      "  File \"cassandra/cluster.py\", line 3522, in cassandra.cluster.ControlConnection._reconnect_internal\n",
      "  File \"cassandra/cluster.py\", line 3544, in cassandra.cluster.ControlConnection._try_connect\n",
      "  File \"cassandra/cluster.py\", line 1620, in cassandra.cluster.Cluster.connection_factory\n",
      "  File \"cassandra/connection.py\", line 840, in cassandra.connection.Connection.factory\n",
      "cassandra.OperationTimedOut: errors=Timed out creating connection (5 seconds), last_host=None\n",
      "WARNING:cassandra.pool:Error attempting to reconnect to 172.30.0.3:9042, scheduling retry in 2.06 seconds: errors=Timed out creating connection (5 seconds), last_host=None\n",
      "WARNING:cassandra.pool:Error attempting to reconnect to 172.30.0.3:9042, scheduling retry in 2.06 seconds: errors=Timed out creating connection (5 seconds), last_host=None\n",
      "WARNING:cassandra.cluster:[control connection] Error connecting to 172.30.0.4:9042:\n",
      "Traceback (most recent call last):\n",
      "  File \"cassandra/cluster.py\", line 3522, in cassandra.cluster.ControlConnection._reconnect_internal\n",
      "  File \"cassandra/cluster.py\", line 3544, in cassandra.cluster.ControlConnection._try_connect\n",
      "  File \"cassandra/cluster.py\", line 1620, in cassandra.cluster.Cluster.connection_factory\n",
      "  File \"cassandra/connection.py\", line 840, in cassandra.connection.Connection.factory\n",
      "cassandra.OperationTimedOut: errors=Timed out creating connection (5 seconds), last_host=None\n",
      "WARNING:cassandra.cluster:[control connection] Error connecting to 172.30.0.4:9042:\n",
      "Traceback (most recent call last):\n",
      "  File \"cassandra/cluster.py\", line 3522, in cassandra.cluster.ControlConnection._reconnect_internal\n",
      "  File \"cassandra/cluster.py\", line 3544, in cassandra.cluster.ControlConnection._try_connect\n",
      "  File \"cassandra/cluster.py\", line 1620, in cassandra.cluster.Cluster.connection_factory\n",
      "  File \"cassandra/connection.py\", line 840, in cassandra.connection.Connection.factory\n",
      "cassandra.OperationTimedOut: errors=Timed out creating connection (5 seconds), last_host=None\n",
      "WARNING:cassandra.pool:Error attempting to reconnect to 172.30.0.3:9042, scheduling retry in 1.9 seconds: errors=Timed out creating connection (5 seconds), last_host=None\n",
      "WARNING:cassandra.cluster:[control connection] Error connecting to 172.30.0.4:9042:\n",
      "Traceback (most recent call last):\n",
      "  File \"cassandra/cluster.py\", line 3522, in cassandra.cluster.ControlConnection._reconnect_internal\n",
      "  File \"cassandra/cluster.py\", line 3544, in cassandra.cluster.ControlConnection._try_connect\n",
      "  File \"cassandra/cluster.py\", line 1620, in cassandra.cluster.Cluster.connection_factory\n",
      "  File \"cassandra/connection.py\", line 840, in cassandra.connection.Connection.factory\n",
      "cassandra.OperationTimedOut: errors=Timed out creating connection (5 seconds), last_host=None\n",
      "WARNING:cassandra.pool:Error attempting to reconnect to 172.30.0.3:9042, scheduling retry in 1.82 seconds: errors=Timed out creating connection (5 seconds), last_host=None\n",
      "WARNING:cassandra.pool:Error attempting to reconnect to 172.30.0.4:9042, scheduling retry in 2.16 seconds: errors=Timed out creating connection (5 seconds), last_host=None\n",
      "WARNING:cassandra.cluster:[control connection] Error connecting to 172.30.0.4:9042:\n",
      "Traceback (most recent call last):\n",
      "  File \"cassandra/cluster.py\", line 3522, in cassandra.cluster.ControlConnection._reconnect_internal\n",
      "  File \"cassandra/cluster.py\", line 3544, in cassandra.cluster.ControlConnection._try_connect\n",
      "  File \"cassandra/cluster.py\", line 1620, in cassandra.cluster.Cluster.connection_factory\n",
      "  File \"cassandra/connection.py\", line 840, in cassandra.connection.Connection.factory\n",
      "cassandra.OperationTimedOut: errors=Timed out creating connection (5 seconds), last_host=None\n",
      "WARNING:cassandra.cluster:[control connection] Error connecting to 172.30.0.4:9042:\n",
      "Traceback (most recent call last):\n",
      "  File \"cassandra/cluster.py\", line 3522, in cassandra.cluster.ControlConnection._reconnect_internal\n",
      "  File \"cassandra/cluster.py\", line 3544, in cassandra.cluster.ControlConnection._try_connect\n",
      "  File \"cassandra/cluster.py\", line 1620, in cassandra.cluster.Cluster.connection_factory\n",
      "  File \"cassandra/connection.py\", line 840, in cassandra.connection.Connection.factory\n",
      "cassandra.OperationTimedOut: errors=Timed out creating connection (5 seconds), last_host=None\n",
      "WARNING:cassandra.pool:Error attempting to reconnect to 172.30.0.3:9042, scheduling retry in 2.04 seconds: errors=Timed out creating connection (5 seconds), last_host=None\n",
      "WARNING:cassandra.pool:Error attempting to reconnect to 172.30.0.4:9042, scheduling retry in 3.84 seconds: errors=Timed out creating connection (5 seconds), last_host=None\n",
      "WARNING:cassandra.pool:Error attempting to reconnect to 172.30.0.3:9042, scheduling retry in 4.48 seconds: errors=Timed out creating connection (5 seconds), last_host=None\n",
      "WARNING:cassandra.cluster:Failed to create connection pool for new host 172.30.0.3:9042:\n",
      "Traceback (most recent call last):\n",
      "  File \"cassandra/cluster.py\", line 3175, in cassandra.cluster.Session.add_or_renew_pool.run_add_or_renew_pool\n",
      "  File \"cassandra/pool.py\", line 402, in cassandra.pool.HostConnection.__init__\n",
      "  File \"cassandra/cluster.py\", line 1620, in cassandra.cluster.Cluster.connection_factory\n",
      "  File \"cassandra/connection.py\", line 840, in cassandra.connection.Connection.factory\n",
      "cassandra.OperationTimedOut: errors=Timed out creating connection (5 seconds), last_host=None\n",
      "WARNING:cassandra.pool:Error attempting to reconnect to 172.30.0.3:9042, scheduling retry in 4.4 seconds: errors=Timed out creating connection (5 seconds), last_host=None\n",
      "WARNING:cassandra.cluster:[control connection] Error connecting to 172.30.0.4:9042:\n",
      "Traceback (most recent call last):\n",
      "  File \"cassandra/cluster.py\", line 3522, in cassandra.cluster.ControlConnection._reconnect_internal\n",
      "  File \"cassandra/cluster.py\", line 3544, in cassandra.cluster.ControlConnection._try_connect\n",
      "  File \"cassandra/cluster.py\", line 1620, in cassandra.cluster.Cluster.connection_factory\n",
      "  File \"cassandra/connection.py\", line 840, in cassandra.connection.Connection.factory\n",
      "cassandra.OperationTimedOut: errors=Timed out creating connection (5 seconds), last_host=None\n",
      "WARNING:cassandra.cluster:[control connection] Error connecting to 172.30.0.4:9042:\n",
      "Traceback (most recent call last):\n",
      "  File \"cassandra/cluster.py\", line 3522, in cassandra.cluster.ControlConnection._reconnect_internal\n",
      "  File \"cassandra/cluster.py\", line 3544, in cassandra.cluster.ControlConnection._try_connect\n",
      "  File \"cassandra/cluster.py\", line 1620, in cassandra.cluster.Cluster.connection_factory\n",
      "  File \"cassandra/connection.py\", line 840, in cassandra.connection.Connection.factory\n",
      "cassandra.OperationTimedOut: errors=Timed out creating connection (5 seconds), last_host=None\n",
      "WARNING:cassandra.pool:Error attempting to reconnect to 172.30.0.3:9042, scheduling retry in 3.68 seconds: errors=Timed out creating connection (5 seconds), last_host=None\n",
      "WARNING:cassandra.cluster:Failed to create connection pool for new host 172.30.0.3:9042:\n",
      "Traceback (most recent call last):\n",
      "  File \"cassandra/cluster.py\", line 3175, in cassandra.cluster.Session.add_or_renew_pool.run_add_or_renew_pool\n",
      "  File \"cassandra/pool.py\", line 402, in cassandra.pool.HostConnection.__init__\n",
      "  File \"cassandra/cluster.py\", line 1620, in cassandra.cluster.Cluster.connection_factory\n",
      "  File \"cassandra/connection.py\", line 840, in cassandra.connection.Connection.factory\n",
      "cassandra.OperationTimedOut: errors=Timed out creating connection (5 seconds), last_host=None\n"
     ]
    },
    {
     "name": "stderr",
     "output_type": "stream",
     "text": [
      "WARNING:cassandra.cluster:[control connection] Error connecting to 172.30.0.3:9042:\n",
      "Traceback (most recent call last):\n",
      "  File \"cassandra/cluster.py\", line 3522, in cassandra.cluster.ControlConnection._reconnect_internal\n",
      "  File \"cassandra/cluster.py\", line 3544, in cassandra.cluster.ControlConnection._try_connect\n",
      "  File \"cassandra/cluster.py\", line 1620, in cassandra.cluster.Cluster.connection_factory\n",
      "  File \"cassandra/connection.py\", line 840, in cassandra.connection.Connection.factory\n",
      "cassandra.OperationTimedOut: errors=Timed out creating connection (5 seconds), last_host=None\n",
      "WARNING:cassandra.cluster:[control connection] Error connecting to 172.30.0.4:9042:\n",
      "Traceback (most recent call last):\n",
      "  File \"cassandra/cluster.py\", line 3522, in cassandra.cluster.ControlConnection._reconnect_internal\n",
      "  File \"cassandra/cluster.py\", line 3544, in cassandra.cluster.ControlConnection._try_connect\n",
      "  File \"cassandra/cluster.py\", line 1620, in cassandra.cluster.Cluster.connection_factory\n",
      "  File \"cassandra/connection.py\", line 840, in cassandra.connection.Connection.factory\n",
      "cassandra.OperationTimedOut: errors=Timed out creating connection (5 seconds), last_host=None\n",
      "WARNING:cassandra.cluster:[control connection] Error connecting to 172.30.0.4:9042:\n",
      "Traceback (most recent call last):\n",
      "  File \"cassandra/cluster.py\", line 3522, in cassandra.cluster.ControlConnection._reconnect_internal\n",
      "  File \"cassandra/cluster.py\", line 3599, in cassandra.cluster.ControlConnection._try_connect\n",
      "  File \"cassandra/cluster.py\", line 3580, in cassandra.cluster.ControlConnection._try_connect\n",
      "  File \"cassandra/connection.py\", line 1073, in cassandra.connection.Connection.wait_for_responses\n",
      "  File \"cassandra/connection.py\", line 1071, in cassandra.connection.Connection.wait_for_responses\n",
      "  File \"cassandra/connection.py\", line 1572, in cassandra.connection.ResponseWaiter.deliver\n",
      "cassandra.OperationTimedOut: errors=None, last_host=None\n",
      "WARNING:cassandra.cluster:[control connection] Error connecting to 172.30.0.4:9042:\n",
      "Traceback (most recent call last):\n",
      "  File \"cassandra/cluster.py\", line 3522, in cassandra.cluster.ControlConnection._reconnect_internal\n",
      "  File \"cassandra/cluster.py\", line 3599, in cassandra.cluster.ControlConnection._try_connect\n",
      "  File \"cassandra/cluster.py\", line 3570, in cassandra.cluster.ControlConnection._try_connect\n",
      "  File \"cassandra/connection.py\", line 1093, in cassandra.connection.Connection.register_watchers\n",
      "  File \"cassandra/connection.py\", line 1029, in cassandra.connection.Connection.wait_for_response\n",
      "  File \"cassandra/connection.py\", line 1073, in cassandra.connection.Connection.wait_for_responses\n",
      "  File \"cassandra/connection.py\", line 1071, in cassandra.connection.Connection.wait_for_responses\n",
      "  File \"cassandra/connection.py\", line 1572, in cassandra.connection.ResponseWaiter.deliver\n",
      "cassandra.OperationTimedOut: errors=None, last_host=None\n",
      "WARNING:cassandra.pool:Error attempting to reconnect to 172.30.0.3:9042, scheduling retry in 2.14 seconds: errors=Timed out creating connection (5 seconds), last_host=None\n",
      "WARNING:cassandra.cluster:[control connection] Error connecting to 172.30.0.4:9042:\n",
      "Traceback (most recent call last):\n",
      "  File \"cassandra/cluster.py\", line 3522, in cassandra.cluster.ControlConnection._reconnect_internal\n",
      "  File \"cassandra/cluster.py\", line 3599, in cassandra.cluster.ControlConnection._try_connect\n",
      "  File \"cassandra/cluster.py\", line 3596, in cassandra.cluster.ControlConnection._try_connect\n",
      "  File \"cassandra/cluster.py\", line 3698, in cassandra.cluster.ControlConnection._refresh_schema\n",
      "  File \"cassandra/metadata.py\", line 142, in cassandra.metadata.Metadata.refresh\n",
      "  File \"cassandra/metadata.py\", line 165, in cassandra.metadata.Metadata._rebuild_all\n",
      "  File \"cassandra/metadata.py\", line 2924, in get_all_keyspaces\n",
      "  File \"cassandra/metadata.py\", line 2872, in get_all_keyspaces\n",
      "  File \"cassandra/metadata.py\", line 2522, in get_all_keyspaces\n",
      "  File \"cassandra/metadata.py\", line 2031, in get_all_keyspaces\n",
      "  File \"cassandra/metadata.py\", line 3031, in cassandra.metadata.SchemaParserDSE68._query_all\n",
      "  File \"cassandra/connection.py\", line 1073, in cassandra.connection.Connection.wait_for_responses\n",
      "  File \"cassandra/connection.py\", line 1071, in cassandra.connection.Connection.wait_for_responses\n",
      "  File \"cassandra/connection.py\", line 1572, in cassandra.connection.ResponseWaiter.deliver\n",
      "cassandra.OperationTimedOut: errors=None, last_host=None\n",
      "WARNING:cassandra.cluster:[control connection] Error connecting to 172.30.0.4:9042:\n",
      "Traceback (most recent call last):\n",
      "  File \"cassandra/cluster.py\", line 3522, in cassandra.cluster.ControlConnection._reconnect_internal\n",
      "  File \"cassandra/cluster.py\", line 3599, in cassandra.cluster.ControlConnection._try_connect\n",
      "  File \"cassandra/cluster.py\", line 3580, in cassandra.cluster.ControlConnection._try_connect\n",
      "  File \"cassandra/connection.py\", line 1073, in cassandra.connection.Connection.wait_for_responses\n",
      "  File \"cassandra/connection.py\", line 1071, in cassandra.connection.Connection.wait_for_responses\n",
      "  File \"cassandra/connection.py\", line 1572, in cassandra.connection.ResponseWaiter.deliver\n",
      "cassandra.OperationTimedOut: errors=None, last_host=None\n",
      "WARNING:cassandra.cluster:[control connection] Error connecting to 172.30.0.4:9042:\n",
      "Traceback (most recent call last):\n",
      "  File \"cassandra/cluster.py\", line 3522, in cassandra.cluster.ControlConnection._reconnect_internal\n",
      "  File \"cassandra/cluster.py\", line 3599, in cassandra.cluster.ControlConnection._try_connect\n",
      "  File \"cassandra/cluster.py\", line 3570, in cassandra.cluster.ControlConnection._try_connect\n",
      "  File \"cassandra/connection.py\", line 1093, in cassandra.connection.Connection.register_watchers\n",
      "  File \"cassandra/connection.py\", line 1029, in cassandra.connection.Connection.wait_for_response\n",
      "  File \"cassandra/connection.py\", line 1073, in cassandra.connection.Connection.wait_for_responses\n",
      "  File \"cassandra/connection.py\", line 1071, in cassandra.connection.Connection.wait_for_responses\n",
      "  File \"cassandra/connection.py\", line 1572, in cassandra.connection.ResponseWaiter.deliver\n",
      "cassandra.OperationTimedOut: errors=None, last_host=None\n",
      "WARNING:cassandra.cluster:[control connection] Error connecting to 172.30.0.4:9042:\n",
      "Traceback (most recent call last):\n",
      "  File \"cassandra/cluster.py\", line 3522, in cassandra.cluster.ControlConnection._reconnect_internal\n",
      "  File \"cassandra/cluster.py\", line 3544, in cassandra.cluster.ControlConnection._try_connect\n",
      "  File \"cassandra/cluster.py\", line 1620, in cassandra.cluster.Cluster.connection_factory\n",
      "  File \"cassandra/connection.py\", line 840, in cassandra.connection.Connection.factory\n",
      "cassandra.OperationTimedOut: errors=Timed out creating connection (5 seconds), last_host=None\n",
      "WARNING:cassandra.cluster:[control connection] Error connecting to 172.30.0.4:9042:\n",
      "Traceback (most recent call last):\n",
      "  File \"cassandra/cluster.py\", line 3522, in cassandra.cluster.ControlConnection._reconnect_internal\n",
      "  File \"cassandra/cluster.py\", line 3544, in cassandra.cluster.ControlConnection._try_connect\n",
      "  File \"cassandra/cluster.py\", line 1620, in cassandra.cluster.Cluster.connection_factory\n",
      "  File \"cassandra/connection.py\", line 840, in cassandra.connection.Connection.factory\n",
      "cassandra.OperationTimedOut: errors=Timed out creating connection (5 seconds), last_host=None\n",
      "WARNING:cassandra.pool:Error attempting to reconnect to 172.30.0.3:9042, scheduling retry in 8.56 seconds: errors=Timed out creating connection (5 seconds), last_host=None\n",
      "WARNING:cassandra.pool:Error attempting to reconnect to 172.30.0.3:9042, scheduling retry in 2.1 seconds: errors=Timed out creating connection (5 seconds), last_host=None\n",
      "WARNING:cassandra.pool:Error attempting to reconnect to 172.30.0.4:9042, scheduling retry in 9.04 seconds: errors=Timed out creating connection (5 seconds), last_host=None\n",
      "WARNING:cassandra.pool:Error attempting to reconnect to 172.30.0.3:9042, scheduling retry in 8.24 seconds: errors=Timed out creating connection (5 seconds), last_host=None\n",
      "WARNING:cassandra.cluster:[control connection] Error connecting to 172.30.0.4:9042:\n",
      "Traceback (most recent call last):\n",
      "  File \"cassandra/cluster.py\", line 3522, in cassandra.cluster.ControlConnection._reconnect_internal\n",
      "  File \"cassandra/cluster.py\", line 3544, in cassandra.cluster.ControlConnection._try_connect\n",
      "  File \"cassandra/cluster.py\", line 1620, in cassandra.cluster.Cluster.connection_factory\n",
      "  File \"cassandra/connection.py\", line 840, in cassandra.connection.Connection.factory\n",
      "cassandra.OperationTimedOut: errors=Timed out creating connection (5 seconds), last_host=None\n"
     ]
    },
    {
     "name": "stderr",
     "output_type": "stream",
     "text": [
      "WARNING:cassandra.pool:Error attempting to reconnect to 172.30.0.3:9042, scheduling retry in 8.24 seconds: errors=Timed out creating connection (5 seconds), last_host=None\n"
     ]
    }
   ],
   "source": [
    "session.execute(\"\"\"\n",
    "CREATE TABLE anime.animelist (\n",
    "\tanime_id int,\n",
    "\taired text,\n",
    "\tairing text,\n",
    "\tbackground text,\n",
    "\tbroadcast text,\n",
    "\tduration text,\n",
    "\tending_theme text,\n",
    "\tepisodes int,\n",
    "\tfavorites bigint,\n",
    "\tgenre text,\n",
    "\timage_url text,\n",
    "\tlicensor text,\n",
    "\tmembers bigint,\n",
    "\topening_theme text,\n",
    "\tpopularity bigint,\n",
    "\tpremiered text,\n",
    "\tproducer text,\n",
    "\trank bigint,\n",
    "\trating text,\n",
    "\trelated text,\n",
    "\tscore decimal,\n",
    "\tscored_by bigint,\n",
    "\tsource text,\n",
    "\tstatus text,\n",
    "\tstudio text,\n",
    "\ttitle text,\n",
    "\ttitle_english text,\n",
    "\ttitle_japanese text,\n",
    "\ttitle_synonyms text,\n",
    "\ttype text,\n",
    "\tPRIMARY KEY (anime_id)\n",
    ") WITH bloom_filter_fp_chance = 0.01\n",
    "AND comment = ''\n",
    "AND crc_check_chance = 1.0\n",
    "AND dclocal_read_repair_chance = 0.1\n",
    "AND default_time_to_live = 0\n",
    "AND gc_grace_seconds = 864000\n",
    "AND max_index_interval = 2048\n",
    "AND memtable_flush_period_in_ms = 0\n",
    "AND min_index_interval = 128\n",
    "AND read_repair_chance = 0.0\n",
    "AND speculative_retry = '99.0PERCENTILE'\n",
    "AND caching = {\n",
    "\t'keys' : 'ALL',\n",
    "\t'rows_per_partition' : 'NONE'\n",
    "}\n",
    "AND compression = {\n",
    "\t'chunk_length_in_kb' : 16,\n",
    "\t'class' : 'LZ4Compressor',\n",
    "\t'crc_check_chance' : 1.0,\n",
    "\t'enabled' : true\n",
    "}\n",
    "AND compaction = {\n",
    "\t'bucket_high' : 1.5,\n",
    "\t'bucket_low' : 0.5,\n",
    "\t'class' : 'SizeTieredCompactionStrategy',\n",
    "\t'enabled' : true,\n",
    "\t'max_threshold' : 32,\n",
    "\t'min_sstable_size' : 50,\n",
    "\t'min_threshold' : 4,\n",
    "\t'tombstone_compaction_interval' : 86400,\n",
    "\t'tombstone_threshold' : 0.2,\n",
    "\t'unchecked_tombstone_compaction' : false\n",
    "};\n",
    "\n",
    "\n",
    "\"\"\")"
   ]
  },
  {
   "cell_type": "markdown",
   "id": "7a923490",
   "metadata": {},
   "source": [
    "Next the data must be imported first (dsbulk tool) using the dataset from https://www.kaggle.com/azathoth42/myanimelist\n",
    "\n",
    "The following csv's need to be imported\n",
    " * UserAnimeList.csv\n",
    " * AnimeList.csv"
   ]
  },
  {
   "cell_type": "code",
   "execution_count": 1,
   "id": "2a35ed32",
   "metadata": {},
   "outputs": [],
   "source": [
    "from pyspark import SparkConf, SparkContext\n",
    "from pyspark.sql import SparkSession\n",
    "\n",
    "from pyspark.sql.functions import avg\n",
    "from pyspark.sql.functions import sum\n",
    "from pyspark.sql.functions import desc\n",
    "\n",
    "spark = SparkSession.builder.appName('demo').master(\"dse://?\").getOrCreate()\n",
    "\n",
    "spark.catalog.clearCache()\n",
    "\n",
    "animeDF = spark.read.format(\"org.apache.spark.sql.cassandra\").options(table=\"animelist\", keyspace=\"anime\").load().cache()\n",
    "animeusersDF = spark.read.format(\"org.apache.spark.sql.cassandra\").options(table=\"useranimelist\", keyspace=\"anime\").load()\n",
    "\n",
    "stage2 = animeusersDF.groupBy(\"anime_id\").agg(sum(\"my_score\"),avg(\"my_score\"))\n"
   ]
  },
  {
   "cell_type": "code",
   "execution_count": 2,
   "id": "e17fdc35",
   "metadata": {},
   "outputs": [],
   "source": [
    "result1 = stage2.sort(desc(\"sum(my_score)\")).join(animeDF,stage2.anime_id==animeDF.anime_id).select(\n",
    "    animeDF.title_english,\"sum(my_score)\").limit(10).toPandas()\n"
   ]
  },
  {
   "cell_type": "code",
   "execution_count": 3,
   "id": "99bf83a6",
   "metadata": {},
   "outputs": [
    {
     "data": {
      "text/plain": [
       "<AxesSubplot:title={'center':'Top 10 highest accumulative Anime score'}, xlabel='title_english'>"
      ]
     },
     "metadata": {},
     "output_type": "display_data"
    },
    {
     "data": {
      "image/png": "[encoded data removed]",
      "text/plain": [
       "<Figure size 432x288 with 1 Axes>"
      ]
     },
     "metadata": {
      "needs_background": "light"
     },
     "output_type": "display_data"
    }
   ],
   "source": [
    "from IPython.display import display\n",
    "import numpy as np\n",
    "\n",
    "output1 = result1.plot.bar(x='title_english', y='sum(my_score)', rot='vertical', yticks=np.arange(0, 1500000, 100000),\n",
    "                     fontsize=12, ylim=(0,1500000), title=\"Top 10 highest accumulative Anime score\")\n",
    "display(output1)"
   ]
  },
  {
   "cell_type": "code",
   "execution_count": 5,
   "id": "584d47eb",
   "metadata": {},
   "outputs": [],
   "source": [
    "result2 = stage2.sort(desc(\"avg(my_score)\")).join(animeDF,stage2.anime_id==animeDF.anime_id).select(\n",
    "    animeDF.title_english,\"avg(my_score)\").limit(10).toPandas()"
   ]
  },
  {
   "cell_type": "code",
   "execution_count": 40,
   "id": "fc654123",
   "metadata": {},
   "outputs": [
    {
     "data": {
      "text/plain": [
       "<AxesSubplot:title={'center':'Top 10 highest average Anime score'}, xlabel='title_english'>"
      ]
     },
     "metadata": {},
     "output_type": "display_data"
    },
    {
     "data": {
      "image/png": "[encoded data removed]",
      "text/plain": [
       "<Figure size 432x288 with 1 Axes>"
      ]
     },
     "metadata": {
      "needs_background": "light"
     },
     "output_type": "display_data"
    }
   ],
   "source": [
    "from IPython.display import display\n",
    "import numpy as np\n",
    "\n",
    "output2 = result2.plot.bar(x='title_english', y='avg(my_score)', rot='vertical', yticks=np.arange(0, 10, 1),\n",
    "                     fontsize=12, title=\"Top 10 highest average Anime score\")\n",
    "display(output2)"
   ]
  },
  {
   "cell_type": "code",
   "execution_count": null,
   "id": "5b70bf22",
   "metadata": {},
   "outputs": [],
   "source": []
  }
 ],
 "metadata": {
  "celltoolbar": "Tags",
  "kernelspec": {
   "display_name": "Python 3",
   "language": "python",
   "name": "python3"
  },
  "language_info": {
   "codemirror_mode": {
    "name": "ipython",
    "version": 3
   },
   "file_extension": ".py",
   "mimetype": "text/x-python",
   "name": "python",
   "nbconvert_exporter": "python",
   "pygments_lexer": "ipython3",
   "version": "3.7.3"
  }
 },
 "nbformat": 4,
 "nbformat_minor": 5
}
