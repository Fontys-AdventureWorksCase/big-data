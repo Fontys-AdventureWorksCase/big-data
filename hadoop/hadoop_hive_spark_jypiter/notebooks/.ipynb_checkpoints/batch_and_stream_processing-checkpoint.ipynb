{
 "cells": [
  {
   "cell_type": "markdown",
   "id": "7579770f",
   "metadata": {},
   "source": [
    "## Files\n",
    "hadoop /breweries/breweries.csv \\\n",
    "hadoop /ml_data (movies) \\\n",
    "hadoop /dumpert"
   ]
  },
  {
   "cell_type": "markdown",
   "id": "28598fa2",
   "metadata": {},
   "source": [
    "## Start session"
   ]
  },
  {
   "cell_type": "code",
   "execution_count": 1,
   "id": "abf2ad83",
   "metadata": {},
   "outputs": [
    {
     "name": "stdout",
     "output_type": "stream",
     "text": [
      "0:00:04.113996\n"
     ]
    }
   ],
   "source": [
    "from pyspark.sql import SparkSession\n",
    "from pyspark.sql.functions import *\n",
    "from pyspark.sql.types import *\n",
    "import datetime\n",
    "\n",
    "# Start spark session\n",
    "startTime = datetime.datetime.now()\n",
    "\n",
    "spark = SparkSession \\\n",
    "        .builder \\\n",
    "        .appName(\"Streaming\") \\\n",
    "        .config(\"spark.driver.memory\", \"15g\") \\\n",
    "        .master(\"spark://spark-master:7077\") \\\n",
    "        .getOrCreate()\n",
    "\n",
    "print(datetime.datetime.now()-startTime)"
   ]
  },
  {
   "cell_type": "markdown",
   "id": "64a714da",
   "metadata": {},
   "source": [
    "## Single file processing (test)"
   ]
  },
  {
   "cell_type": "code",
   "execution_count": 2,
   "id": "4f88ab2d",
   "metadata": {
    "scrolled": true
   },
   "outputs": [
    {
     "name": "stdout",
     "output_type": "stream",
     "text": [
      "-RECORD 0---------------------------\n",
      " date        | 2008-03-01 07:12:41  \n",
      " description | \"Conjonedak or so... \n",
      " id          | 43365_47842255       \n",
      " media       | [[, 209, VIDEO, [... \n",
      " nopreroll   | false                \n",
      " nsfw        | false                \n",
      " stats       | [0, 3905, 0, 87743]  \n",
      " still       | https://media.dum... \n",
      " stills      | [https://media.du... \n",
      " tags        | amerikaan europa ... \n",
      " thumbnail   | https://media.dum... \n",
      " title       | We staan weer op ... \n",
      "only showing top 1 row\n",
      "\n",
      "0:00:06.287434\n"
     ]
    }
   ],
   "source": [
    "startTime = datetime.datetime.now()\n",
    "\n",
    "# Check if files are interpreted correctly\n",
    "\n",
    "staticVideosTest = spark.read \\\n",
    "    .json(\"hdfs://namenode:9000/dumpert/videos/9999\") \\\n",
    "    .select(explode(\"items\").alias(\"videos\")) \\\n",
    "    .select( \\\n",
    "      col(\"videos.date\").alias(\"date\") \\\n",
    "    , col(\"videos.description\").alias(\"description\") \\\n",
    "    , col(\"videos.id\").alias(\"id\") \\\n",
    "    , col(\"videos.media\").alias(\"media\") \\\n",
    "    , col(\"videos.nopreroll\").alias(\"nopreroll\") \\\n",
    "    , col(\"videos.nsfw\").alias(\"nsfw\") \\\n",
    "    , col(\"videos.stats\").alias(\"stats\") \\\n",
    "    , col(\"videos.still\").alias(\"still\") \\\n",
    "    , col(\"videos.stills\").alias(\"stills\") \\\n",
    "    , col(\"videos.tags\").alias(\"tags\") \\\n",
    "    , col(\"videos.thumbnail\").alias(\"thumbnail\") \\\n",
    "    , col(\"videos.title\").alias(\"title\") \n",
    "    )\n",
    "\n",
    "staticVideosTest.show(1, vertical=True)\n",
    "# parentDF.printSchema()\n",
    "\n",
    "print(datetime.datetime.now()-startTime)"
   ]
  },
  {
   "cell_type": "code",
   "execution_count": 3,
   "id": "8556435b",
   "metadata": {},
   "outputs": [
    {
     "data": {
      "text/plain": [
       "15"
      ]
     },
     "metadata": {},
     "output_type": "display_data"
    },
    {
     "name": "stdout",
     "output_type": "stream",
     "text": [
      "0:00:00.712168\n"
     ]
    }
   ],
   "source": [
    "startTime = datetime.datetime.now()\n",
    "\n",
    "# 1. Tel het totaal aantal videos\n",
    "\n",
    "display(staticVideosTest.count())\n",
    "\n",
    "print(datetime.datetime.now()-startTime)"
   ]
  },
  {
   "cell_type": "code",
   "execution_count": 4,
   "id": "9b77be1f",
   "metadata": {},
   "outputs": [
    {
     "name": "stdout",
     "output_type": "stream",
     "text": [
      "+---------+---------+\n",
      "|count(id)|nopreroll|\n",
      "+---------+---------+\n",
      "|       15|    false|\n",
      "+---------+---------+\n",
      "\n",
      "0:00:02.372021\n"
     ]
    }
   ],
   "source": [
    "startTime = datetime.datetime.now()\n",
    "\n",
    "# Register a table\n",
    "staticVideosTest.cache()\n",
    "staticVideosTest.createOrReplaceTempView(\"videos\")\n",
    "table = spark.sql(\"select count(id), nopreroll from videos group by nopreroll\")\n",
    "table.show()\n",
    "\n",
    "print(datetime.datetime.now()-startTime)"
   ]
  },
  {
   "cell_type": "markdown",
   "id": "62e113da",
   "metadata": {},
   "source": [
    "## Batch Processing"
   ]
  },
  {
   "cell_type": "code",
   "execution_count": 5,
   "id": "36aa11a1",
   "metadata": {
    "scrolled": true
   },
   "outputs": [
    {
     "name": "stdout",
     "output_type": "stream",
     "text": [
      "Loading videos took: \n",
      "0:00:52.832944\n",
      "Loading comments took: \n",
      "0:06:39.372882\n",
      "-RECORD 0-----------------------------------------\n",
      " approved                  | true                 \n",
      " article_id                | 7109669              \n",
      " article_link              | https://comments.... \n",
      " article_title             | Even geduld nog aub  \n",
      " author_is_newbie          | false                \n",
      " author_username           | Unloadable           \n",
      " banned                    | false                \n",
      " child_comments            | []                   \n",
      " creation_datetime         | 2017-04-20 19:52:45  \n",
      " display_content           | K*t Ziggo...         \n",
      " html_markup               | <div class=\"cmt-c... \n",
      " id                        | 239927506            \n",
      " is_author_premium_visible | false                \n",
      " kudos_count               | -3                   \n",
      " parent_id                 | 0                    \n",
      " reference_id              | 0                    \n",
      " report_count              | 0                    \n",
      "only showing top 1 row\n",
      "\n",
      "-RECORD 0---------------------------\n",
      " date        | 2013-10-15 12:26:28  \n",
      " description | De NS denkt nu ec... \n",
      " id          | 6566890_a21801a4     \n",
      " media       | [[,, FOTO, [[http... \n",
      " nopreroll   | false                \n",
      " nsfw        | false                \n",
      " stats       | [0, 964, 0, 97493]   \n",
      " still       | https://media.dum... \n",
      " stills      | [https://media.du... \n",
      " tags        | trein ns spoor bl... \n",
      " thumbnail   | https://media.dum... \n",
      " title       | Bladblazers          \n",
      "only showing top 1 row\n",
      "\n"
     ]
    }
   ],
   "source": [
    "\n",
    "# Load videos and comments\n",
    "\n",
    "startTime = datetime.datetime.now()\n",
    "staticVideos = spark.read \\\n",
    "    .json(\"hdfs://namenode:9000/dumpert/videos/\") \\\n",
    "    .select(explode(\"items\").alias(\"videos\")) \\\n",
    "    .select( \\\n",
    "      col(\"videos.date\").alias(\"date\") \\\n",
    "    , col(\"videos.description\").alias(\"description\") \\\n",
    "    , col(\"videos.id\").alias(\"id\") \\\n",
    "    , col(\"videos.media\").alias(\"media\") \\\n",
    "    , col(\"videos.nopreroll\").alias(\"nopreroll\") \\\n",
    "    , col(\"videos.nsfw\").alias(\"nsfw\") \\\n",
    "    , col(\"videos.stats\").alias(\"stats\") \\\n",
    "    , col(\"videos.still\").alias(\"still\") \\\n",
    "    , col(\"videos.stills\").alias(\"stills\") \\\n",
    "    , col(\"videos.tags\").alias(\"tags\") \\\n",
    "    , col(\"videos.thumbnail\").alias(\"thumbnail\") \\\n",
    "    , col(\"videos.title\").alias(\"title\") \n",
    "    )\n",
    "print(\"Loading videos took: \") \n",
    "print(datetime.datetime.now()-startTime)\n",
    "\n",
    "startTime = datetime.datetime.now()\n",
    "staticComments = spark.read \\\n",
    "     .json(\"hdfs://namenode:9000/dumpert/reaguursels/\") \\\n",
    "     .select(explode(\"data.comments\").alias(\"comments\")) \\\n",
    "     .select( \\\n",
    "      col(\"comments.approved\").alias(\"approved\") \\\n",
    "    , col(\"comments.article_id\").alias(\"article_id\") \\\n",
    "    , col(\"comments.article_link\").alias(\"article_link\") \\\n",
    "    , col(\"comments.article_title\").alias(\"article_title\") \\\n",
    "    , col(\"comments.author_is_newbie\").alias(\"author_is_newbie\") \\\n",
    "    , col(\"comments.author_username\").alias(\"author_username\") \\\n",
    "    , col(\"comments.banned\").alias(\"banned\") \\\n",
    "    , col(\"comments.child_comments\").alias(\"child_comments\") \\\n",
    "    , col(\"comments.creation_datetime\").alias(\"creation_datetime\") \\\n",
    "    , col(\"comments.display_content\").alias(\"display_content\") \\\n",
    "    , col(\"comments.html_markup\").alias(\"html_markup\") \\\n",
    "    , col(\"comments.id\").alias(\"id\") \\\n",
    "    , col(\"comments.is_author_premium_visible\").alias(\"is_author_premium_visible\") \\\n",
    "    , col(\"comments.kudos_count\").alias(\"kudos_count\") \\\n",
    "    , col(\"comments.parent_id\").alias(\"parent_id\") \\\n",
    "    , col(\"comments.reference_id\").alias(\"reference_id\") \\\n",
    "    , col(\"comments.report_count\").alias(\"report_count\")\n",
    "    )\n",
    "print(\"Loading comments took: \") \n",
    "print(datetime.datetime.now()-startTime)\n",
    "\n",
    "# reaguurselsParentDF.printSchema()\n",
    "# videosParentDF.printSchema()\n",
    "\n",
    "startTime = datetime.datetime.now()\n",
    "staticComments.cache()\n",
    "staticVideos.cache()\n",
    "print(\"Caching took: \")\n",
    "print(datetime.datetime.now()-startTime)\n",
    "\n",
    "startTime = datetime.datetime.now()\n",
    "staticComments.show(1, vertical=True)\n",
    "staticVideos.show(1, vertical=True)\n",
    "print(\"Showing data took: \")\n",
    "print(datetime.datetime.now()-startTime)"
   ]
  },
  {
   "cell_type": "code",
   "execution_count": null,
   "id": "e50fee5f",
   "metadata": {},
   "outputs": [
    {
     "data": {
      "text/plain": [
       "164354"
      ]
     },
     "metadata": {},
     "output_type": "display_data"
    }
   ],
   "source": [
    "startTime = datetime.datetime.now()\n",
    "\n",
    "# 1. Tel het totaal aantal videos\n",
    "\n",
    "display(staticVideos.count())\n",
    "display(staticComments.count())\n",
    "\n",
    "print(datetime.datetime.now()-startTime)"
   ]
  },
  {
   "cell_type": "code",
   "execution_count": null,
   "id": "f0f53de2",
   "metadata": {},
   "outputs": [],
   "source": [
    "# Transformations\n",
    "\n",
    "# Videos\n",
    "startTime = datetime.datetime.now()\n",
    "\n",
    "staticVideos.createOrReplaceTempView(\"videos\")\n",
    "table = spark.sql(\"SELECT COUNT(id), nopreroll FROM videos GROUP BY nopreroll\")\n",
    "table.show()\n",
    "\n",
    "print(datetime.datetime.now()-startTime)\n",
    "\n",
    "# Comments\n",
    "startTime = datetime.datetime.now()\n",
    "\n",
    "staticComments.createOrReplaceTempView(\"comments\")\n",
    "table = spark.sql(\"SELECT '> 20' as kudos, COUNT(id) FROM comments WHERE kudos_count > 20\")\n",
    "table.show()\n",
    "table = spark.sql(\"SELECT '< -20' as kudos, COUNT(id) FROM comments WHERE kudos_count < -20\")\n",
    "table.show()\n",
    "\n",
    "print(datetime.datetime.now()-startTime)"
   ]
  },
  {
   "cell_type": "markdown",
   "id": "4a938324",
   "metadata": {},
   "source": [
    "## Structured Stream processing"
   ]
  },
  {
   "cell_type": "code",
   "execution_count": null,
   "id": "aedf671c",
   "metadata": {
    "scrolled": true
   },
   "outputs": [],
   "source": [
    "# Load comments\n",
    "## Treat a sequence of files as a stream by picking one file at a time\n",
    "\n",
    "startTime = datetime.datetime.now()\n",
    "streamingComments = spark.readStream \\\n",
    "    .schema(staticComments.schema) \\\n",
    "    .option(\"maxFilesPerTrigger\", 1) \\\n",
    "    .json(\"hdfs://namenode:9000/dumpert/reaguursels/\") \\\n",
    "    .select(explode(\"data.comments\").alias(\"comments\")) \\\n",
    "    .select( \\\n",
    "      col(\"comments.approved\").alias(\"approved\") \\\n",
    "    , col(\"comments.article_id\").alias(\"article_id\") \\\n",
    "    , col(\"comments.article_link\").alias(\"article_link\") \\\n",
    "    , col(\"comments.article_title\").alias(\"article_title\") \\\n",
    "    , col(\"comments.author_is_newbie\").alias(\"author_is_newbie\") \\\n",
    "    , col(\"comments.author_username\").alias(\"author_username\") \\\n",
    "    , col(\"comments.banned\").alias(\"banned\") \\\n",
    "    , col(\"comments.child_comments\").alias(\"child_comments\") \\\n",
    "    , col(\"comments.creation_datetime\").alias(\"creation_datetime\") \\\n",
    "    , col(\"comments.display_content\").alias(\"display_content\") \\\n",
    "    , col(\"comments.html_markup\").alias(\"html_markup\") \\\n",
    "    , col(\"comments.id\").alias(\"id\") \\\n",
    "    , col(\"comments.is_author_premium_visible\").alias(\"is_author_premium_visible\") \\\n",
    "    , col(\"comments.kudos_count\").alias(\"kudos_count\") \\\n",
    "    , col(\"comments.parent_id\").alias(\"parent_id\") \\\n",
    "    , col(\"comments.reference_id\").alias(\"reference_id\") \\\n",
    "    , col(\"comments.report_count\").alias(\"report_count\")\n",
    "    )\n",
    "print(\"Loading comments took: \") \n",
    "print(datetime.datetime.now()-startTime)\n",
    "\n",
    "\n",
    "# Start counting\n",
    "startTime = datetime.datetime.now()\n",
    "streamingCounts = comments.count()\n",
    "print(datetime.datetime.now()-startTime)\n",
    "\n",
    "streamingCounts.isStreaming\n",
    "\n",
    "\n",
    "#\n",
    "# spark.conf.set(\"spark.sql.shuffle.partitions\", \"2\")  # keep the size of shuffles small\n",
    "\n",
    "# query = streamingCountsDF \\\n",
    "#     .writeStream \\\n",
    "#     .format(\"memory\") \\       # memory = store in-memory table \n",
    "#     .queryName(\"counts\") \\    # counts = name of the in-memory table\n",
    "#     .outputMode(\"complete\") \\ # complete = all the counts should be in the table\n",
    "#     .start()"
   ]
  },
  {
   "cell_type": "raw",
   "id": "54a8a68f",
   "metadata": {},
   "source": [
    "import spark.implicits._            \n",
    "\n",
    "    \n",
    "fileStream = spark.readStream \\\n",
    "                .format(\"\")\n",
    "    \n",
    " val file = spark.readStream.schema(schemaforfile).csv(\"C:\\\\SparkScala\\\\fakefriends.csv\")  \n",
    "\n",
    " file.writeStream.format(\"parquet\").start(\"C:\\\\Users\\\\roswal01\\\\Desktop\\\\streamed\") \n",
    " \n",
    " spark.stop()\n",
    "\n",
    "val file = spark.readStream.schema(schemaforfile).csv(\"C:\\\\SparkScala\\\\fakefriends.csv\")  \n",
    "\n",
    "val query = file.writeStream.format(\"parquet\")\n",
    "    .option(\"checkpointLocation\", \"path/to/HDFS/dir\")\n",
    "    .start(\"C:\\\\Users\\\\roswal01\\\\Desktop\\\\streamed\") \n",
    "\n",
    "query.awaitTermination()\n",
    "\n",
    "df = spark.readStream \\\n",
    "    .format(\"rate\") \\\n",
    "    .option(\"rowsPerSecond\", 1) \\\n",
    "    .load()\n",
    "\n",
    "# Write the streaming DataFrame to a table\n",
    "df.writeStream \\\n",
    "    .option(\"checkpointLocation\", \"path/to/checkpoint/dir\") \\\n",
    "    .toTable(\"myTable\")\n",
    "\n",
    "# Check the table result\n",
    "spark.read.table(\"myTable\").show()\n",
    "\n",
    "# Transform the source dataset and write to a new table\n",
    "spark.readStream \\\n",
    "    .table(\"myTable\") \\\n",
    "    .select(\"value\") \\\n",
    "    .writeStream \\\n",
    "    .option(\"checkpointLocation\", \"path/to/checkpoint/dir\") \\\n",
    "    .format(\"parquet\") \\\n",
    "    .toTable(\"newTable\")\n",
    "\n",
    "# Check the new table result\n",
    "spark.read.table(\"newTable\").show()"
   ]
  },
  {
   "cell_type": "code",
   "execution_count": null,
   "id": "ff7dec95",
   "metadata": {},
   "outputs": [],
   "source": []
  },
  {
   "cell_type": "code",
   "execution_count": null,
   "id": "7ddfb696",
   "metadata": {},
   "outputs": [],
   "source": []
  }
 ],
 "metadata": {
  "kernelspec": {
   "display_name": "Python 3",
   "language": "python",
   "name": "python3"
  },
  "language_info": {
   "codemirror_mode": {
    "name": "ipython",
    "version": 3
   },
   "file_extension": ".py",
   "mimetype": "text/x-python",
   "name": "python",
   "nbconvert_exporter": "python",
   "pygments_lexer": "ipython3",
   "version": "3.7.3"
  }
 },
 "nbformat": 4,
 "nbformat_minor": 5
}
